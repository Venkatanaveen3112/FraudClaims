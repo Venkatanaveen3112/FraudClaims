{
 "cells": [
  {
   "cell_type": "markdown",
   "id": "e7473aa3",
   "metadata": {},
   "source": [
    "# Predicting the “Fraud in auto insurance claims” "
   ]
  },
  {
   "cell_type": "markdown",
   "id": "f01797fb",
   "metadata": {},
   "source": [
    "# Problem Description"
   ]
  },
  {
   "cell_type": "markdown",
   "id": "b70fe384",
   "metadata": {},
   "source": [
    "A major general insurance company has a business problem with significant number of claims being reported are fraudulent in nature and it is leading to leakages.  So, the Insurer decided to predict the fraudulent ones before even processing the claims to allocate costs appropriately, to keep the thorough investigation process in place and to design proper action plan for the claims etc.\n",
    "\n",
    "Insurance fraud refers to any claim with the intent to obtain an improper payment from an insurer.  Motor and health insurance are the two prominent segments that have seen a spurt in fraud. Frauds can be classified from source and/or nature point of view. \n",
    "\n",
    "Sources can be policyholder, intermediary and/or internal with the latter two being more critical from internal control framework point of view. Frauds can be classified into nature wise, for example, application, inflation, identity, fabrication, staged/contrived/induced accidents etc. \n",
    "\n",
    "Fraud affects the lives of innocent people as well as the insurance industry and thus it may be of interest for the health of the Insurance Industry and Society. In fact, Insurers report certain classified cases to Regulator and Law enforcement agencies like Police, Crime Bureaus and others as mandated by the Regulators/Government and required by Law. With the advent of organised gangs and/or collusion, the problem has become more complex and sophisticated and the frauds have been difficult to detect and to prove, if detected.\n"
   ]
  },
  {
   "cell_type": "markdown",
   "id": "7b7e17a2",
   "metadata": {},
   "source": [
    "#### Almost 45,000 crore insurance frauds took place in India in the year 2019. Most insurance companies lose 10-15% in all areas of business, and fraudulent health insurance claims can be as high as 35%."
   ]
  },
  {
   "cell_type": "code",
   "execution_count": 1,
   "id": "599ad63d",
   "metadata": {},
   "outputs": [],
   "source": [
    "import pandas as pd\n",
    "import numpy as np\n",
    "import matplotlib.pyplot as plt\n",
    "import seaborn as sns\n",
    "import warnings\n",
    "warnings.filterwarnings('ignore')"
   ]
  },
  {
   "cell_type": "markdown",
   "id": "b5064cf7",
   "metadata": {},
   "source": [
    "# Reading the Data"
   ]
  },
  {
   "cell_type": "code",
   "execution_count": 2,
   "id": "89f901d0",
   "metadata": {},
   "outputs": [],
   "source": [
    "demographics = pd.read_csv(\"Train_Demographics.csv\",na_values=\"NA\")"
   ]
  },
  {
   "cell_type": "code",
   "execution_count": 3,
   "id": "aa36d813",
   "metadata": {},
   "outputs": [],
   "source": [
    "claim = pd.read_csv(\"Train_Claim.csv\",na_values=(\"?\",\"-5\",\"MISSINGVALUE\",'MISSEDDATA'))"
   ]
  },
  {
   "cell_type": "code",
   "execution_count": 4,
   "id": "38f2360e",
   "metadata": {},
   "outputs": [],
   "source": [
    "policy = pd.read_csv(\"Train_Policy.csv\",na_values=(\"-1\",\"MISSINGVAL\",\"NA\"))"
   ]
  },
  {
   "cell_type": "code",
   "execution_count": 5,
   "id": "e4cb2697",
   "metadata": {},
   "outputs": [],
   "source": [
    "vehicle = pd.read_csv(\"Train_Vehicle.csv\",na_values=\"???\")"
   ]
  },
  {
   "cell_type": "code",
   "execution_count": 6,
   "id": "3bc27008",
   "metadata": {},
   "outputs": [],
   "source": [
    "traindata = pd.read_csv(\"Traindata_with_Target.csv\")"
   ]
  },
  {
   "cell_type": "code",
   "execution_count": 7,
   "id": "560dfb77",
   "metadata": {},
   "outputs": [
    {
     "name": "stdout",
     "output_type": "stream",
     "text": [
      "(28836, 10)\n",
      "(28836, 19)\n",
      "(28836, 10)\n",
      "(115344, 3)\n",
      "(28836, 2)\n"
     ]
    }
   ],
   "source": [
    "#shape of all data frames\n",
    "print(demographics.shape)\n",
    "print(claim.shape)\n",
    "print(policy.shape)\n",
    "print(vehicle.shape)\n",
    "print(traindata.shape)"
   ]
  },
  {
   "cell_type": "markdown",
   "id": "2f48e837",
   "metadata": {},
   "source": [
    "# Demographics Data"
   ]
  },
  {
   "cell_type": "code",
   "execution_count": 8,
   "id": "86cac2cb",
   "metadata": {},
   "outputs": [
    {
     "data": {
      "text/html": [
       "<div>\n",
       "<style scoped>\n",
       "    .dataframe tbody tr th:only-of-type {\n",
       "        vertical-align: middle;\n",
       "    }\n",
       "\n",
       "    .dataframe tbody tr th {\n",
       "        vertical-align: top;\n",
       "    }\n",
       "\n",
       "    .dataframe thead th {\n",
       "        text-align: right;\n",
       "    }\n",
       "</style>\n",
       "<table border=\"1\" class=\"dataframe\">\n",
       "  <thead>\n",
       "    <tr style=\"text-align: right;\">\n",
       "      <th></th>\n",
       "      <th>CustomerID</th>\n",
       "      <th>InsuredAge</th>\n",
       "      <th>InsuredZipCode</th>\n",
       "      <th>InsuredGender</th>\n",
       "      <th>InsuredEducationLevel</th>\n",
       "      <th>InsuredOccupation</th>\n",
       "      <th>InsuredHobbies</th>\n",
       "      <th>CapitalGains</th>\n",
       "      <th>CapitalLoss</th>\n",
       "      <th>Country</th>\n",
       "    </tr>\n",
       "  </thead>\n",
       "  <tbody>\n",
       "    <tr>\n",
       "      <th>0</th>\n",
       "      <td>Cust10000</td>\n",
       "      <td>35</td>\n",
       "      <td>454776</td>\n",
       "      <td>MALE</td>\n",
       "      <td>JD</td>\n",
       "      <td>armed-forces</td>\n",
       "      <td>movies</td>\n",
       "      <td>56700</td>\n",
       "      <td>-48500</td>\n",
       "      <td>India</td>\n",
       "    </tr>\n",
       "    <tr>\n",
       "      <th>1</th>\n",
       "      <td>Cust10001</td>\n",
       "      <td>36</td>\n",
       "      <td>454776</td>\n",
       "      <td>MALE</td>\n",
       "      <td>JD</td>\n",
       "      <td>tech-support</td>\n",
       "      <td>cross-fit</td>\n",
       "      <td>70600</td>\n",
       "      <td>-48500</td>\n",
       "      <td>India</td>\n",
       "    </tr>\n",
       "    <tr>\n",
       "      <th>2</th>\n",
       "      <td>Cust10002</td>\n",
       "      <td>33</td>\n",
       "      <td>603260</td>\n",
       "      <td>MALE</td>\n",
       "      <td>JD</td>\n",
       "      <td>armed-forces</td>\n",
       "      <td>polo</td>\n",
       "      <td>66400</td>\n",
       "      <td>-63700</td>\n",
       "      <td>India</td>\n",
       "    </tr>\n",
       "    <tr>\n",
       "      <th>3</th>\n",
       "      <td>Cust10003</td>\n",
       "      <td>36</td>\n",
       "      <td>474848</td>\n",
       "      <td>MALE</td>\n",
       "      <td>JD</td>\n",
       "      <td>armed-forces</td>\n",
       "      <td>polo</td>\n",
       "      <td>47900</td>\n",
       "      <td>-73400</td>\n",
       "      <td>India</td>\n",
       "    </tr>\n",
       "    <tr>\n",
       "      <th>4</th>\n",
       "      <td>Cust10004</td>\n",
       "      <td>29</td>\n",
       "      <td>457942</td>\n",
       "      <td>FEMALE</td>\n",
       "      <td>High School</td>\n",
       "      <td>exec-managerial</td>\n",
       "      <td>dancing</td>\n",
       "      <td>0</td>\n",
       "      <td>-41500</td>\n",
       "      <td>India</td>\n",
       "    </tr>\n",
       "  </tbody>\n",
       "</table>\n",
       "</div>"
      ],
      "text/plain": [
       "  CustomerID  InsuredAge  InsuredZipCode InsuredGender InsuredEducationLevel  \\\n",
       "0  Cust10000          35          454776          MALE                    JD   \n",
       "1  Cust10001          36          454776          MALE                    JD   \n",
       "2  Cust10002          33          603260          MALE                    JD   \n",
       "3  Cust10003          36          474848          MALE                    JD   \n",
       "4  Cust10004          29          457942        FEMALE           High School   \n",
       "\n",
       "  InsuredOccupation InsuredHobbies  CapitalGains  CapitalLoss Country  \n",
       "0      armed-forces         movies         56700       -48500   India  \n",
       "1      tech-support      cross-fit         70600       -48500   India  \n",
       "2      armed-forces           polo         66400       -63700   India  \n",
       "3      armed-forces           polo         47900       -73400   India  \n",
       "4   exec-managerial        dancing             0       -41500   India  "
      ]
     },
     "execution_count": 8,
     "metadata": {},
     "output_type": "execute_result"
    }
   ],
   "source": [
    "demographics.head()"
   ]
  },
  {
   "cell_type": "markdown",
   "id": "8fd45009",
   "metadata": {},
   "source": [
    "# Claim data"
   ]
  },
  {
   "cell_type": "code",
   "execution_count": 9,
   "id": "9a3e95b8",
   "metadata": {},
   "outputs": [
    {
     "data": {
      "text/html": [
       "<div>\n",
       "<style scoped>\n",
       "    .dataframe tbody tr th:only-of-type {\n",
       "        vertical-align: middle;\n",
       "    }\n",
       "\n",
       "    .dataframe tbody tr th {\n",
       "        vertical-align: top;\n",
       "    }\n",
       "\n",
       "    .dataframe thead th {\n",
       "        text-align: right;\n",
       "    }\n",
       "</style>\n",
       "<table border=\"1\" class=\"dataframe\">\n",
       "  <thead>\n",
       "    <tr style=\"text-align: right;\">\n",
       "      <th></th>\n",
       "      <th>CustomerID</th>\n",
       "      <th>DateOfIncident</th>\n",
       "      <th>TypeOfIncident</th>\n",
       "      <th>TypeOfCollission</th>\n",
       "      <th>SeverityOfIncident</th>\n",
       "      <th>AuthoritiesContacted</th>\n",
       "      <th>IncidentState</th>\n",
       "      <th>IncidentCity</th>\n",
       "      <th>IncidentAddress</th>\n",
       "      <th>IncidentTime</th>\n",
       "      <th>NumberOfVehicles</th>\n",
       "      <th>PropertyDamage</th>\n",
       "      <th>BodilyInjuries</th>\n",
       "      <th>Witnesses</th>\n",
       "      <th>PoliceReport</th>\n",
       "      <th>AmountOfTotalClaim</th>\n",
       "      <th>AmountOfInjuryClaim</th>\n",
       "      <th>AmountOfPropertyClaim</th>\n",
       "      <th>AmountOfVehicleDamage</th>\n",
       "    </tr>\n",
       "  </thead>\n",
       "  <tbody>\n",
       "    <tr>\n",
       "      <th>0</th>\n",
       "      <td>Cust10000</td>\n",
       "      <td>2015-02-03</td>\n",
       "      <td>Multi-vehicle Collision</td>\n",
       "      <td>Side Collision</td>\n",
       "      <td>Total Loss</td>\n",
       "      <td>Police</td>\n",
       "      <td>State7</td>\n",
       "      <td>City1</td>\n",
       "      <td>Location 1311</td>\n",
       "      <td>17.0</td>\n",
       "      <td>3</td>\n",
       "      <td>NaN</td>\n",
       "      <td>1</td>\n",
       "      <td>0.0</td>\n",
       "      <td>NaN</td>\n",
       "      <td>65501.0</td>\n",
       "      <td>13417</td>\n",
       "      <td>6071</td>\n",
       "      <td>46013</td>\n",
       "    </tr>\n",
       "    <tr>\n",
       "      <th>1</th>\n",
       "      <td>Cust10001</td>\n",
       "      <td>2015-02-02</td>\n",
       "      <td>Multi-vehicle Collision</td>\n",
       "      <td>Side Collision</td>\n",
       "      <td>Total Loss</td>\n",
       "      <td>Police</td>\n",
       "      <td>State7</td>\n",
       "      <td>City5</td>\n",
       "      <td>Location 1311</td>\n",
       "      <td>10.0</td>\n",
       "      <td>3</td>\n",
       "      <td>YES</td>\n",
       "      <td>2</td>\n",
       "      <td>1.0</td>\n",
       "      <td>YES</td>\n",
       "      <td>61382.0</td>\n",
       "      <td>15560</td>\n",
       "      <td>5919</td>\n",
       "      <td>39903</td>\n",
       "    </tr>\n",
       "    <tr>\n",
       "      <th>2</th>\n",
       "      <td>Cust10002</td>\n",
       "      <td>2015-01-15</td>\n",
       "      <td>Single Vehicle Collision</td>\n",
       "      <td>Side Collision</td>\n",
       "      <td>Minor Damage</td>\n",
       "      <td>Other</td>\n",
       "      <td>State8</td>\n",
       "      <td>City6</td>\n",
       "      <td>Location 2081</td>\n",
       "      <td>22.0</td>\n",
       "      <td>1</td>\n",
       "      <td>YES</td>\n",
       "      <td>2</td>\n",
       "      <td>3.0</td>\n",
       "      <td>NO</td>\n",
       "      <td>66755.0</td>\n",
       "      <td>11630</td>\n",
       "      <td>11630</td>\n",
       "      <td>43495</td>\n",
       "    </tr>\n",
       "    <tr>\n",
       "      <th>3</th>\n",
       "      <td>Cust10003</td>\n",
       "      <td>2015-01-19</td>\n",
       "      <td>Single Vehicle Collision</td>\n",
       "      <td>Side Collision</td>\n",
       "      <td>Minor Damage</td>\n",
       "      <td>Other</td>\n",
       "      <td>State9</td>\n",
       "      <td>City6</td>\n",
       "      <td>Location 2081</td>\n",
       "      <td>22.0</td>\n",
       "      <td>1</td>\n",
       "      <td>YES</td>\n",
       "      <td>2</td>\n",
       "      <td>3.0</td>\n",
       "      <td>NO</td>\n",
       "      <td>66243.0</td>\n",
       "      <td>12003</td>\n",
       "      <td>12003</td>\n",
       "      <td>42237</td>\n",
       "    </tr>\n",
       "    <tr>\n",
       "      <th>4</th>\n",
       "      <td>Cust10004</td>\n",
       "      <td>2015-01-09</td>\n",
       "      <td>Single Vehicle Collision</td>\n",
       "      <td>Rear Collision</td>\n",
       "      <td>Minor Damage</td>\n",
       "      <td>Fire</td>\n",
       "      <td>State8</td>\n",
       "      <td>City6</td>\n",
       "      <td>Location 1695</td>\n",
       "      <td>10.0</td>\n",
       "      <td>1</td>\n",
       "      <td>NO</td>\n",
       "      <td>2</td>\n",
       "      <td>1.0</td>\n",
       "      <td>YES</td>\n",
       "      <td>53544.0</td>\n",
       "      <td>8829</td>\n",
       "      <td>7234</td>\n",
       "      <td>37481</td>\n",
       "    </tr>\n",
       "  </tbody>\n",
       "</table>\n",
       "</div>"
      ],
      "text/plain": [
       "  CustomerID DateOfIncident            TypeOfIncident TypeOfCollission  \\\n",
       "0  Cust10000     2015-02-03   Multi-vehicle Collision   Side Collision   \n",
       "1  Cust10001     2015-02-02   Multi-vehicle Collision   Side Collision   \n",
       "2  Cust10002     2015-01-15  Single Vehicle Collision   Side Collision   \n",
       "3  Cust10003     2015-01-19  Single Vehicle Collision   Side Collision   \n",
       "4  Cust10004     2015-01-09  Single Vehicle Collision   Rear Collision   \n",
       "\n",
       "  SeverityOfIncident AuthoritiesContacted IncidentState IncidentCity  \\\n",
       "0         Total Loss               Police        State7        City1   \n",
       "1         Total Loss               Police        State7        City5   \n",
       "2       Minor Damage                Other        State8        City6   \n",
       "3       Minor Damage                Other        State9        City6   \n",
       "4       Minor Damage                 Fire        State8        City6   \n",
       "\n",
       "  IncidentAddress  IncidentTime  NumberOfVehicles PropertyDamage  \\\n",
       "0   Location 1311          17.0                 3            NaN   \n",
       "1   Location 1311          10.0                 3            YES   \n",
       "2   Location 2081          22.0                 1            YES   \n",
       "3   Location 2081          22.0                 1            YES   \n",
       "4   Location 1695          10.0                 1             NO   \n",
       "\n",
       "   BodilyInjuries  Witnesses PoliceReport  AmountOfTotalClaim  \\\n",
       "0               1        0.0          NaN             65501.0   \n",
       "1               2        1.0          YES             61382.0   \n",
       "2               2        3.0           NO             66755.0   \n",
       "3               2        3.0           NO             66243.0   \n",
       "4               2        1.0          YES             53544.0   \n",
       "\n",
       "   AmountOfInjuryClaim  AmountOfPropertyClaim  AmountOfVehicleDamage  \n",
       "0                13417                   6071                  46013  \n",
       "1                15560                   5919                  39903  \n",
       "2                11630                  11630                  43495  \n",
       "3                12003                  12003                  42237  \n",
       "4                 8829                   7234                  37481  "
      ]
     },
     "execution_count": 9,
     "metadata": {},
     "output_type": "execute_result"
    }
   ],
   "source": [
    "claim.head()"
   ]
  },
  {
   "cell_type": "markdown",
   "id": "718dff1f",
   "metadata": {},
   "source": [
    "# Vehicle Data"
   ]
  },
  {
   "cell_type": "code",
   "execution_count": 10,
   "id": "a4efa8ea",
   "metadata": {},
   "outputs": [
    {
     "data": {
      "text/html": [
       "<div>\n",
       "<style scoped>\n",
       "    .dataframe tbody tr th:only-of-type {\n",
       "        vertical-align: middle;\n",
       "    }\n",
       "\n",
       "    .dataframe tbody tr th {\n",
       "        vertical-align: top;\n",
       "    }\n",
       "\n",
       "    .dataframe thead th {\n",
       "        text-align: right;\n",
       "    }\n",
       "</style>\n",
       "<table border=\"1\" class=\"dataframe\">\n",
       "  <thead>\n",
       "    <tr style=\"text-align: right;\">\n",
       "      <th></th>\n",
       "      <th>CustomerID</th>\n",
       "      <th>VehicleAttribute</th>\n",
       "      <th>VehicleAttributeDetails</th>\n",
       "    </tr>\n",
       "  </thead>\n",
       "  <tbody>\n",
       "    <tr>\n",
       "      <th>0</th>\n",
       "      <td>Cust20179</td>\n",
       "      <td>VehicleID</td>\n",
       "      <td>Vehicle8898</td>\n",
       "    </tr>\n",
       "    <tr>\n",
       "      <th>1</th>\n",
       "      <td>Cust21384</td>\n",
       "      <td>VehicleModel</td>\n",
       "      <td>Malibu</td>\n",
       "    </tr>\n",
       "    <tr>\n",
       "      <th>2</th>\n",
       "      <td>Cust33335</td>\n",
       "      <td>VehicleMake</td>\n",
       "      <td>Toyota</td>\n",
       "    </tr>\n",
       "    <tr>\n",
       "      <th>3</th>\n",
       "      <td>Cust27118</td>\n",
       "      <td>VehicleModel</td>\n",
       "      <td>Neon</td>\n",
       "    </tr>\n",
       "    <tr>\n",
       "      <th>4</th>\n",
       "      <td>Cust13038</td>\n",
       "      <td>VehicleID</td>\n",
       "      <td>Vehicle30212</td>\n",
       "    </tr>\n",
       "  </tbody>\n",
       "</table>\n",
       "</div>"
      ],
      "text/plain": [
       "  CustomerID VehicleAttribute VehicleAttributeDetails\n",
       "0  Cust20179        VehicleID             Vehicle8898\n",
       "1  Cust21384     VehicleModel                  Malibu\n",
       "2  Cust33335      VehicleMake                  Toyota\n",
       "3  Cust27118     VehicleModel                    Neon\n",
       "4  Cust13038        VehicleID            Vehicle30212"
      ]
     },
     "execution_count": 10,
     "metadata": {},
     "output_type": "execute_result"
    }
   ],
   "source": [
    "vehicle.head()"
   ]
  },
  {
   "cell_type": "markdown",
   "id": "c41663b8",
   "metadata": {},
   "source": [
    "#### vehicle data is inadequate so we need to arrange data properly"
   ]
  },
  {
   "cell_type": "code",
   "execution_count": 11,
   "id": "c61ac267",
   "metadata": {},
   "outputs": [],
   "source": [
    "Vehicledata=vehicle['VehicleAttribute'].unique()\n",
    "Vehicle=pd.concat([vehicle.set_index(['CustomerID']).groupby('VehicleAttribute')['VehicleAttributeDetails'].get_group(key) for key in Vehicledata],axis=1)\n",
    "Vehicle.columns=Vehicledata\n",
    "Vehicle.reset_index(inplace=True)"
   ]
  },
  {
   "cell_type": "code",
   "execution_count": 12,
   "id": "40225654",
   "metadata": {},
   "outputs": [
    {
     "data": {
      "text/html": [
       "<div>\n",
       "<style scoped>\n",
       "    .dataframe tbody tr th:only-of-type {\n",
       "        vertical-align: middle;\n",
       "    }\n",
       "\n",
       "    .dataframe tbody tr th {\n",
       "        vertical-align: top;\n",
       "    }\n",
       "\n",
       "    .dataframe thead th {\n",
       "        text-align: right;\n",
       "    }\n",
       "</style>\n",
       "<table border=\"1\" class=\"dataframe\">\n",
       "  <thead>\n",
       "    <tr style=\"text-align: right;\">\n",
       "      <th></th>\n",
       "      <th>CustomerID</th>\n",
       "      <th>VehicleID</th>\n",
       "      <th>VehicleModel</th>\n",
       "      <th>VehicleMake</th>\n",
       "      <th>VehicleYOM</th>\n",
       "    </tr>\n",
       "  </thead>\n",
       "  <tbody>\n",
       "    <tr>\n",
       "      <th>0</th>\n",
       "      <td>Cust20179</td>\n",
       "      <td>Vehicle8898</td>\n",
       "      <td>Forrestor</td>\n",
       "      <td>BMW</td>\n",
       "      <td>2011</td>\n",
       "    </tr>\n",
       "    <tr>\n",
       "      <th>1</th>\n",
       "      <td>Cust13038</td>\n",
       "      <td>Vehicle30212</td>\n",
       "      <td>Maxima</td>\n",
       "      <td>Toyota</td>\n",
       "      <td>2000</td>\n",
       "    </tr>\n",
       "    <tr>\n",
       "      <th>2</th>\n",
       "      <td>Cust1801</td>\n",
       "      <td>Vehicle24096</td>\n",
       "      <td>MDX</td>\n",
       "      <td>Accura</td>\n",
       "      <td>1999</td>\n",
       "    </tr>\n",
       "    <tr>\n",
       "      <th>3</th>\n",
       "      <td>Cust14947</td>\n",
       "      <td>Vehicle15216</td>\n",
       "      <td>Ultima</td>\n",
       "      <td>Nissan</td>\n",
       "      <td>1998</td>\n",
       "    </tr>\n",
       "    <tr>\n",
       "      <th>4</th>\n",
       "      <td>Cust19144</td>\n",
       "      <td>Vehicle29018</td>\n",
       "      <td>Fusion</td>\n",
       "      <td>Ford</td>\n",
       "      <td>2011</td>\n",
       "    </tr>\n",
       "  </tbody>\n",
       "</table>\n",
       "</div>"
      ],
      "text/plain": [
       "  CustomerID     VehicleID VehicleModel VehicleMake VehicleYOM\n",
       "0  Cust20179   Vehicle8898    Forrestor         BMW       2011\n",
       "1  Cust13038  Vehicle30212       Maxima      Toyota       2000\n",
       "2   Cust1801  Vehicle24096          MDX      Accura       1999\n",
       "3  Cust14947  Vehicle15216       Ultima      Nissan       1998\n",
       "4  Cust19144  Vehicle29018       Fusion        Ford       2011"
      ]
     },
     "execution_count": 12,
     "metadata": {},
     "output_type": "execute_result"
    }
   ],
   "source": [
    "Vehicle.head()"
   ]
  },
  {
   "cell_type": "markdown",
   "id": "02165bc4",
   "metadata": {},
   "source": [
    "# Policy Data"
   ]
  },
  {
   "cell_type": "code",
   "execution_count": 13,
   "id": "724730fe",
   "metadata": {},
   "outputs": [
    {
     "data": {
      "text/html": [
       "<div>\n",
       "<style scoped>\n",
       "    .dataframe tbody tr th:only-of-type {\n",
       "        vertical-align: middle;\n",
       "    }\n",
       "\n",
       "    .dataframe tbody tr th {\n",
       "        vertical-align: top;\n",
       "    }\n",
       "\n",
       "    .dataframe thead th {\n",
       "        text-align: right;\n",
       "    }\n",
       "</style>\n",
       "<table border=\"1\" class=\"dataframe\">\n",
       "  <thead>\n",
       "    <tr style=\"text-align: right;\">\n",
       "      <th></th>\n",
       "      <th>InsurancePolicyNumber</th>\n",
       "      <th>CustomerLoyaltyPeriod</th>\n",
       "      <th>DateOfPolicyCoverage</th>\n",
       "      <th>InsurancePolicyState</th>\n",
       "      <th>Policy_CombinedSingleLimit</th>\n",
       "      <th>Policy_Deductible</th>\n",
       "      <th>PolicyAnnualPremium</th>\n",
       "      <th>UmbrellaLimit</th>\n",
       "      <th>InsuredRelationship</th>\n",
       "      <th>CustomerID</th>\n",
       "    </tr>\n",
       "  </thead>\n",
       "  <tbody>\n",
       "    <tr>\n",
       "      <th>0</th>\n",
       "      <td>110122</td>\n",
       "      <td>328</td>\n",
       "      <td>2014-10-17</td>\n",
       "      <td>State3</td>\n",
       "      <td>250/500</td>\n",
       "      <td>1000</td>\n",
       "      <td>1406.91</td>\n",
       "      <td>0</td>\n",
       "      <td>husband</td>\n",
       "      <td>Cust1001</td>\n",
       "    </tr>\n",
       "    <tr>\n",
       "      <th>1</th>\n",
       "      <td>110125</td>\n",
       "      <td>256</td>\n",
       "      <td>1990-05-25</td>\n",
       "      <td>State1</td>\n",
       "      <td>250/500</td>\n",
       "      <td>2000</td>\n",
       "      <td>1415.74</td>\n",
       "      <td>6000000</td>\n",
       "      <td>unmarried</td>\n",
       "      <td>Cust1004</td>\n",
       "    </tr>\n",
       "    <tr>\n",
       "      <th>2</th>\n",
       "      <td>110126</td>\n",
       "      <td>228</td>\n",
       "      <td>2014-06-06</td>\n",
       "      <td>State1</td>\n",
       "      <td>500/1000</td>\n",
       "      <td>1000</td>\n",
       "      <td>1583.91</td>\n",
       "      <td>6000000</td>\n",
       "      <td>unmarried</td>\n",
       "      <td>Cust1005</td>\n",
       "    </tr>\n",
       "    <tr>\n",
       "      <th>3</th>\n",
       "      <td>110127</td>\n",
       "      <td>256</td>\n",
       "      <td>2006-10-12</td>\n",
       "      <td>State3</td>\n",
       "      <td>250/500</td>\n",
       "      <td>1000</td>\n",
       "      <td>1351.10</td>\n",
       "      <td>0</td>\n",
       "      <td>unmarried</td>\n",
       "      <td>Cust1006</td>\n",
       "    </tr>\n",
       "    <tr>\n",
       "      <th>4</th>\n",
       "      <td>110128</td>\n",
       "      <td>137</td>\n",
       "      <td>2000-06-04</td>\n",
       "      <td>State2</td>\n",
       "      <td>250/500</td>\n",
       "      <td>1000</td>\n",
       "      <td>1333.35</td>\n",
       "      <td>0</td>\n",
       "      <td>husband</td>\n",
       "      <td>Cust1007</td>\n",
       "    </tr>\n",
       "  </tbody>\n",
       "</table>\n",
       "</div>"
      ],
      "text/plain": [
       "   InsurancePolicyNumber  CustomerLoyaltyPeriod DateOfPolicyCoverage  \\\n",
       "0                 110122                    328           2014-10-17   \n",
       "1                 110125                    256           1990-05-25   \n",
       "2                 110126                    228           2014-06-06   \n",
       "3                 110127                    256           2006-10-12   \n",
       "4                 110128                    137           2000-06-04   \n",
       "\n",
       "  InsurancePolicyState Policy_CombinedSingleLimit  Policy_Deductible  \\\n",
       "0               State3                    250/500               1000   \n",
       "1               State1                    250/500               2000   \n",
       "2               State1                   500/1000               1000   \n",
       "3               State3                    250/500               1000   \n",
       "4               State2                    250/500               1000   \n",
       "\n",
       "   PolicyAnnualPremium  UmbrellaLimit InsuredRelationship CustomerID  \n",
       "0              1406.91              0             husband   Cust1001  \n",
       "1              1415.74        6000000           unmarried   Cust1004  \n",
       "2              1583.91        6000000           unmarried   Cust1005  \n",
       "3              1351.10              0           unmarried   Cust1006  \n",
       "4              1333.35              0             husband   Cust1007  "
      ]
     },
     "execution_count": 13,
     "metadata": {},
     "output_type": "execute_result"
    }
   ],
   "source": [
    "policy.head()"
   ]
  },
  {
   "cell_type": "markdown",
   "id": "f5fc307d",
   "metadata": {},
   "source": [
    "# Target Data"
   ]
  },
  {
   "cell_type": "code",
   "execution_count": 14,
   "id": "f5d23f45",
   "metadata": {},
   "outputs": [
    {
     "data": {
      "text/html": [
       "<div>\n",
       "<style scoped>\n",
       "    .dataframe tbody tr th:only-of-type {\n",
       "        vertical-align: middle;\n",
       "    }\n",
       "\n",
       "    .dataframe tbody tr th {\n",
       "        vertical-align: top;\n",
       "    }\n",
       "\n",
       "    .dataframe thead th {\n",
       "        text-align: right;\n",
       "    }\n",
       "</style>\n",
       "<table border=\"1\" class=\"dataframe\">\n",
       "  <thead>\n",
       "    <tr style=\"text-align: right;\">\n",
       "      <th></th>\n",
       "      <th>CustomerID</th>\n",
       "      <th>ReportedFraud</th>\n",
       "    </tr>\n",
       "  </thead>\n",
       "  <tbody>\n",
       "    <tr>\n",
       "      <th>0</th>\n",
       "      <td>Cust20065</td>\n",
       "      <td>N</td>\n",
       "    </tr>\n",
       "    <tr>\n",
       "      <th>1</th>\n",
       "      <td>Cust37589</td>\n",
       "      <td>N</td>\n",
       "    </tr>\n",
       "    <tr>\n",
       "      <th>2</th>\n",
       "      <td>Cust24312</td>\n",
       "      <td>N</td>\n",
       "    </tr>\n",
       "    <tr>\n",
       "      <th>3</th>\n",
       "      <td>Cust5493</td>\n",
       "      <td>Y</td>\n",
       "    </tr>\n",
       "    <tr>\n",
       "      <th>4</th>\n",
       "      <td>Cust7704</td>\n",
       "      <td>Y</td>\n",
       "    </tr>\n",
       "  </tbody>\n",
       "</table>\n",
       "</div>"
      ],
      "text/plain": [
       "  CustomerID ReportedFraud\n",
       "0  Cust20065             N\n",
       "1  Cust37589             N\n",
       "2  Cust24312             N\n",
       "3   Cust5493             Y\n",
       "4   Cust7704             Y"
      ]
     },
     "execution_count": 14,
     "metadata": {},
     "output_type": "execute_result"
    }
   ],
   "source": [
    "traindata.head()"
   ]
  },
  {
   "cell_type": "markdown",
   "id": "4c1cbcfb",
   "metadata": {},
   "source": [
    "# Merging all dataframes into One dataframe"
   ]
  },
  {
   "cell_type": "code",
   "execution_count": 15,
   "id": "96cd313b",
   "metadata": {},
   "outputs": [],
   "source": [
    "df = pd.merge(pd.merge(pd.merge(pd.merge(demographics,claim),Vehicle),policy),traindata)    "
   ]
  },
  {
   "cell_type": "code",
   "execution_count": 16,
   "id": "27451ff8",
   "metadata": {},
   "outputs": [
    {
     "data": {
      "text/html": [
       "<div>\n",
       "<style scoped>\n",
       "    .dataframe tbody tr th:only-of-type {\n",
       "        vertical-align: middle;\n",
       "    }\n",
       "\n",
       "    .dataframe tbody tr th {\n",
       "        vertical-align: top;\n",
       "    }\n",
       "\n",
       "    .dataframe thead th {\n",
       "        text-align: right;\n",
       "    }\n",
       "</style>\n",
       "<table border=\"1\" class=\"dataframe\">\n",
       "  <thead>\n",
       "    <tr style=\"text-align: right;\">\n",
       "      <th></th>\n",
       "      <th>CustomerID</th>\n",
       "      <th>InsuredAge</th>\n",
       "      <th>InsuredZipCode</th>\n",
       "      <th>InsuredGender</th>\n",
       "      <th>InsuredEducationLevel</th>\n",
       "      <th>InsuredOccupation</th>\n",
       "      <th>InsuredHobbies</th>\n",
       "      <th>CapitalGains</th>\n",
       "      <th>CapitalLoss</th>\n",
       "      <th>Country</th>\n",
       "      <th>...</th>\n",
       "      <th>InsurancePolicyNumber</th>\n",
       "      <th>CustomerLoyaltyPeriod</th>\n",
       "      <th>DateOfPolicyCoverage</th>\n",
       "      <th>InsurancePolicyState</th>\n",
       "      <th>Policy_CombinedSingleLimit</th>\n",
       "      <th>Policy_Deductible</th>\n",
       "      <th>PolicyAnnualPremium</th>\n",
       "      <th>UmbrellaLimit</th>\n",
       "      <th>InsuredRelationship</th>\n",
       "      <th>ReportedFraud</th>\n",
       "    </tr>\n",
       "  </thead>\n",
       "  <tbody>\n",
       "    <tr>\n",
       "      <th>0</th>\n",
       "      <td>Cust10000</td>\n",
       "      <td>35</td>\n",
       "      <td>454776</td>\n",
       "      <td>MALE</td>\n",
       "      <td>JD</td>\n",
       "      <td>armed-forces</td>\n",
       "      <td>movies</td>\n",
       "      <td>56700</td>\n",
       "      <td>-48500</td>\n",
       "      <td>India</td>\n",
       "      <td>...</td>\n",
       "      <td>119121</td>\n",
       "      <td>49</td>\n",
       "      <td>1998-10-25</td>\n",
       "      <td>State1</td>\n",
       "      <td>100/300</td>\n",
       "      <td>1000</td>\n",
       "      <td>1632.73</td>\n",
       "      <td>0</td>\n",
       "      <td>not-in-family</td>\n",
       "      <td>N</td>\n",
       "    </tr>\n",
       "    <tr>\n",
       "      <th>1</th>\n",
       "      <td>Cust10001</td>\n",
       "      <td>36</td>\n",
       "      <td>454776</td>\n",
       "      <td>MALE</td>\n",
       "      <td>JD</td>\n",
       "      <td>tech-support</td>\n",
       "      <td>cross-fit</td>\n",
       "      <td>70600</td>\n",
       "      <td>-48500</td>\n",
       "      <td>India</td>\n",
       "      <td>...</td>\n",
       "      <td>119122</td>\n",
       "      <td>114</td>\n",
       "      <td>2000-11-15</td>\n",
       "      <td>State1</td>\n",
       "      <td>100/300</td>\n",
       "      <td>1000</td>\n",
       "      <td>1255.19</td>\n",
       "      <td>0</td>\n",
       "      <td>not-in-family</td>\n",
       "      <td>N</td>\n",
       "    </tr>\n",
       "    <tr>\n",
       "      <th>2</th>\n",
       "      <td>Cust10002</td>\n",
       "      <td>33</td>\n",
       "      <td>603260</td>\n",
       "      <td>MALE</td>\n",
       "      <td>JD</td>\n",
       "      <td>armed-forces</td>\n",
       "      <td>polo</td>\n",
       "      <td>66400</td>\n",
       "      <td>-63700</td>\n",
       "      <td>India</td>\n",
       "      <td>...</td>\n",
       "      <td>119123</td>\n",
       "      <td>167</td>\n",
       "      <td>2001-02-12</td>\n",
       "      <td>State3</td>\n",
       "      <td>500/1000</td>\n",
       "      <td>617</td>\n",
       "      <td>1373.38</td>\n",
       "      <td>0</td>\n",
       "      <td>wife</td>\n",
       "      <td>N</td>\n",
       "    </tr>\n",
       "    <tr>\n",
       "      <th>3</th>\n",
       "      <td>Cust10003</td>\n",
       "      <td>36</td>\n",
       "      <td>474848</td>\n",
       "      <td>MALE</td>\n",
       "      <td>JD</td>\n",
       "      <td>armed-forces</td>\n",
       "      <td>polo</td>\n",
       "      <td>47900</td>\n",
       "      <td>-73400</td>\n",
       "      <td>India</td>\n",
       "      <td>...</td>\n",
       "      <td>119124</td>\n",
       "      <td>190</td>\n",
       "      <td>2005-04-11</td>\n",
       "      <td>State2</td>\n",
       "      <td>500/1000</td>\n",
       "      <td>722</td>\n",
       "      <td>1337.60</td>\n",
       "      <td>0</td>\n",
       "      <td>own-child</td>\n",
       "      <td>N</td>\n",
       "    </tr>\n",
       "    <tr>\n",
       "      <th>4</th>\n",
       "      <td>Cust10004</td>\n",
       "      <td>29</td>\n",
       "      <td>457942</td>\n",
       "      <td>FEMALE</td>\n",
       "      <td>High School</td>\n",
       "      <td>exec-managerial</td>\n",
       "      <td>dancing</td>\n",
       "      <td>0</td>\n",
       "      <td>-41500</td>\n",
       "      <td>India</td>\n",
       "      <td>...</td>\n",
       "      <td>119125</td>\n",
       "      <td>115</td>\n",
       "      <td>1996-10-25</td>\n",
       "      <td>State2</td>\n",
       "      <td>100/300</td>\n",
       "      <td>500</td>\n",
       "      <td>1353.73</td>\n",
       "      <td>4279863</td>\n",
       "      <td>unmarried</td>\n",
       "      <td>N</td>\n",
       "    </tr>\n",
       "    <tr>\n",
       "      <th>...</th>\n",
       "      <td>...</td>\n",
       "      <td>...</td>\n",
       "      <td>...</td>\n",
       "      <td>...</td>\n",
       "      <td>...</td>\n",
       "      <td>...</td>\n",
       "      <td>...</td>\n",
       "      <td>...</td>\n",
       "      <td>...</td>\n",
       "      <td>...</td>\n",
       "      <td>...</td>\n",
       "      <td>...</td>\n",
       "      <td>...</td>\n",
       "      <td>...</td>\n",
       "      <td>...</td>\n",
       "      <td>...</td>\n",
       "      <td>...</td>\n",
       "      <td>...</td>\n",
       "      <td>...</td>\n",
       "      <td>...</td>\n",
       "      <td>...</td>\n",
       "    </tr>\n",
       "    <tr>\n",
       "      <th>28831</th>\n",
       "      <td>Cust9993</td>\n",
       "      <td>46</td>\n",
       "      <td>600561</td>\n",
       "      <td>MALE</td>\n",
       "      <td>Masters</td>\n",
       "      <td>protective-serv</td>\n",
       "      <td>sleeping</td>\n",
       "      <td>0</td>\n",
       "      <td>0</td>\n",
       "      <td>India</td>\n",
       "      <td>...</td>\n",
       "      <td>119114</td>\n",
       "      <td>321</td>\n",
       "      <td>1998-04-18</td>\n",
       "      <td>State1</td>\n",
       "      <td>500/1000</td>\n",
       "      <td>655</td>\n",
       "      <td>1276.01</td>\n",
       "      <td>0</td>\n",
       "      <td>unmarried</td>\n",
       "      <td>N</td>\n",
       "    </tr>\n",
       "    <tr>\n",
       "      <th>28832</th>\n",
       "      <td>Cust9994</td>\n",
       "      <td>44</td>\n",
       "      <td>439304</td>\n",
       "      <td>MALE</td>\n",
       "      <td>Masters</td>\n",
       "      <td>adm-clerical</td>\n",
       "      <td>dancing</td>\n",
       "      <td>0</td>\n",
       "      <td>-28800</td>\n",
       "      <td>India</td>\n",
       "      <td>...</td>\n",
       "      <td>119115</td>\n",
       "      <td>237</td>\n",
       "      <td>2004-09-07</td>\n",
       "      <td>State2</td>\n",
       "      <td>100/300</td>\n",
       "      <td>1089</td>\n",
       "      <td>1273.38</td>\n",
       "      <td>0</td>\n",
       "      <td>unmarried</td>\n",
       "      <td>N</td>\n",
       "    </tr>\n",
       "    <tr>\n",
       "      <th>28833</th>\n",
       "      <td>Cust9996</td>\n",
       "      <td>53</td>\n",
       "      <td>460722</td>\n",
       "      <td>MALE</td>\n",
       "      <td>PhD</td>\n",
       "      <td>transport-moving</td>\n",
       "      <td>base-jumping</td>\n",
       "      <td>63100</td>\n",
       "      <td>-43800</td>\n",
       "      <td>India</td>\n",
       "      <td>...</td>\n",
       "      <td>119117</td>\n",
       "      <td>392</td>\n",
       "      <td>1998-09-10</td>\n",
       "      <td>State3</td>\n",
       "      <td>250/500</td>\n",
       "      <td>787</td>\n",
       "      <td>1380.92</td>\n",
       "      <td>3448735</td>\n",
       "      <td>own-child</td>\n",
       "      <td>N</td>\n",
       "    </tr>\n",
       "    <tr>\n",
       "      <th>28834</th>\n",
       "      <td>Cust9997</td>\n",
       "      <td>53</td>\n",
       "      <td>472634</td>\n",
       "      <td>MALE</td>\n",
       "      <td>Associate</td>\n",
       "      <td>transport-moving</td>\n",
       "      <td>skydiving</td>\n",
       "      <td>67400</td>\n",
       "      <td>-43800</td>\n",
       "      <td>India</td>\n",
       "      <td>...</td>\n",
       "      <td>119118</td>\n",
       "      <td>391</td>\n",
       "      <td>1998-08-10</td>\n",
       "      <td>State3</td>\n",
       "      <td>250/500</td>\n",
       "      <td>780</td>\n",
       "      <td>1389.29</td>\n",
       "      <td>3364301</td>\n",
       "      <td>not-in-family</td>\n",
       "      <td>N</td>\n",
       "    </tr>\n",
       "    <tr>\n",
       "      <th>28835</th>\n",
       "      <td>Cust9999</td>\n",
       "      <td>36</td>\n",
       "      <td>450730</td>\n",
       "      <td>FEMALE</td>\n",
       "      <td>PhD</td>\n",
       "      <td>handlers-cleaners</td>\n",
       "      <td>base-jumping</td>\n",
       "      <td>46400</td>\n",
       "      <td>-74300</td>\n",
       "      <td>India</td>\n",
       "      <td>...</td>\n",
       "      <td>119120</td>\n",
       "      <td>191</td>\n",
       "      <td>2003-04-12</td>\n",
       "      <td>State2</td>\n",
       "      <td>500/1000</td>\n",
       "      <td>2000</td>\n",
       "      <td>928.43</td>\n",
       "      <td>2909175</td>\n",
       "      <td>husband</td>\n",
       "      <td>N</td>\n",
       "    </tr>\n",
       "  </tbody>\n",
       "</table>\n",
       "<p>28836 rows × 42 columns</p>\n",
       "</div>"
      ],
      "text/plain": [
       "      CustomerID  InsuredAge  InsuredZipCode InsuredGender  \\\n",
       "0      Cust10000          35          454776          MALE   \n",
       "1      Cust10001          36          454776          MALE   \n",
       "2      Cust10002          33          603260          MALE   \n",
       "3      Cust10003          36          474848          MALE   \n",
       "4      Cust10004          29          457942        FEMALE   \n",
       "...          ...         ...             ...           ...   \n",
       "28831   Cust9993          46          600561          MALE   \n",
       "28832   Cust9994          44          439304          MALE   \n",
       "28833   Cust9996          53          460722          MALE   \n",
       "28834   Cust9997          53          472634          MALE   \n",
       "28835   Cust9999          36          450730        FEMALE   \n",
       "\n",
       "      InsuredEducationLevel  InsuredOccupation InsuredHobbies  CapitalGains  \\\n",
       "0                        JD       armed-forces         movies         56700   \n",
       "1                        JD       tech-support      cross-fit         70600   \n",
       "2                        JD       armed-forces           polo         66400   \n",
       "3                        JD       armed-forces           polo         47900   \n",
       "4               High School    exec-managerial        dancing             0   \n",
       "...                     ...                ...            ...           ...   \n",
       "28831               Masters    protective-serv       sleeping             0   \n",
       "28832               Masters       adm-clerical        dancing             0   \n",
       "28833                   PhD   transport-moving   base-jumping         63100   \n",
       "28834             Associate   transport-moving      skydiving         67400   \n",
       "28835                   PhD  handlers-cleaners   base-jumping         46400   \n",
       "\n",
       "       CapitalLoss Country  ... InsurancePolicyNumber CustomerLoyaltyPeriod  \\\n",
       "0           -48500   India  ...                119121                    49   \n",
       "1           -48500   India  ...                119122                   114   \n",
       "2           -63700   India  ...                119123                   167   \n",
       "3           -73400   India  ...                119124                   190   \n",
       "4           -41500   India  ...                119125                   115   \n",
       "...            ...     ...  ...                   ...                   ...   \n",
       "28831            0   India  ...                119114                   321   \n",
       "28832       -28800   India  ...                119115                   237   \n",
       "28833       -43800   India  ...                119117                   392   \n",
       "28834       -43800   India  ...                119118                   391   \n",
       "28835       -74300   India  ...                119120                   191   \n",
       "\n",
       "      DateOfPolicyCoverage InsurancePolicyState Policy_CombinedSingleLimit  \\\n",
       "0               1998-10-25               State1                    100/300   \n",
       "1               2000-11-15               State1                    100/300   \n",
       "2               2001-02-12               State3                   500/1000   \n",
       "3               2005-04-11               State2                   500/1000   \n",
       "4               1996-10-25               State2                    100/300   \n",
       "...                    ...                  ...                        ...   \n",
       "28831           1998-04-18               State1                   500/1000   \n",
       "28832           2004-09-07               State2                    100/300   \n",
       "28833           1998-09-10               State3                    250/500   \n",
       "28834           1998-08-10               State3                    250/500   \n",
       "28835           2003-04-12               State2                   500/1000   \n",
       "\n",
       "      Policy_Deductible PolicyAnnualPremium UmbrellaLimit  \\\n",
       "0                  1000             1632.73             0   \n",
       "1                  1000             1255.19             0   \n",
       "2                   617             1373.38             0   \n",
       "3                   722             1337.60             0   \n",
       "4                   500             1353.73       4279863   \n",
       "...                 ...                 ...           ...   \n",
       "28831               655             1276.01             0   \n",
       "28832              1089             1273.38             0   \n",
       "28833               787             1380.92       3448735   \n",
       "28834               780             1389.29       3364301   \n",
       "28835              2000              928.43       2909175   \n",
       "\n",
       "       InsuredRelationship  ReportedFraud  \n",
       "0            not-in-family              N  \n",
       "1            not-in-family              N  \n",
       "2                     wife              N  \n",
       "3                own-child              N  \n",
       "4                unmarried              N  \n",
       "...                    ...            ...  \n",
       "28831            unmarried              N  \n",
       "28832            unmarried              N  \n",
       "28833            own-child              N  \n",
       "28834        not-in-family              N  \n",
       "28835              husband              N  \n",
       "\n",
       "[28836 rows x 42 columns]"
      ]
     },
     "execution_count": 16,
     "metadata": {},
     "output_type": "execute_result"
    }
   ],
   "source": [
    "df"
   ]
  },
  {
   "cell_type": "code",
   "execution_count": 17,
   "id": "09655daf",
   "metadata": {},
   "outputs": [],
   "source": [
    "#df.to_csv('insurance.csv')"
   ]
  },
  {
   "cell_type": "code",
   "execution_count": 18,
   "id": "22f3203a",
   "metadata": {},
   "outputs": [
    {
     "data": {
      "text/plain": [
       "(28836, 42)"
      ]
     },
     "execution_count": 18,
     "metadata": {},
     "output_type": "execute_result"
    }
   ],
   "source": [
    "df.shape"
   ]
  },
  {
   "cell_type": "markdown",
   "id": "d603fa81",
   "metadata": {},
   "source": [
    "## Imputing the Null Values"
   ]
  },
  {
   "cell_type": "code",
   "execution_count": 19,
   "id": "4e801a72",
   "metadata": {},
   "outputs": [
    {
     "data": {
      "text/plain": [
       "CustomerID                        0\n",
       "InsuredAge                        0\n",
       "InsuredZipCode                    0\n",
       "InsuredGender                    30\n",
       "InsuredEducationLevel             0\n",
       "InsuredOccupation                 0\n",
       "InsuredHobbies                    0\n",
       "CapitalGains                      0\n",
       "CapitalLoss                       0\n",
       "Country                           2\n",
       "DateOfIncident                    0\n",
       "TypeOfIncident                    0\n",
       "TypeOfCollission               5162\n",
       "SeverityOfIncident                0\n",
       "AuthoritiesContacted              0\n",
       "IncidentState                     0\n",
       "IncidentCity                      0\n",
       "IncidentAddress                   0\n",
       "IncidentTime                     31\n",
       "NumberOfVehicles                  0\n",
       "PropertyDamage                10459\n",
       "BodilyInjuries                    0\n",
       "Witnesses                        46\n",
       "PoliceReport                   9805\n",
       "AmountOfTotalClaim               50\n",
       "AmountOfInjuryClaim               0\n",
       "AmountOfPropertyClaim             0\n",
       "AmountOfVehicleDamage             0\n",
       "VehicleID                         0\n",
       "VehicleModel                      0\n",
       "VehicleMake                      50\n",
       "VehicleYOM                        0\n",
       "InsurancePolicyNumber             0\n",
       "CustomerLoyaltyPeriod             0\n",
       "DateOfPolicyCoverage              0\n",
       "InsurancePolicyState              0\n",
       "Policy_CombinedSingleLimit        0\n",
       "Policy_Deductible                 0\n",
       "PolicyAnnualPremium             141\n",
       "UmbrellaLimit                     0\n",
       "InsuredRelationship               0\n",
       "ReportedFraud                     0\n",
       "dtype: int64"
      ]
     },
     "execution_count": 19,
     "metadata": {},
     "output_type": "execute_result"
    }
   ],
   "source": [
    "#checking the null values of every column in the dataframe\n",
    "df.isnull().sum()"
   ]
  },
  {
   "cell_type": "markdown",
   "id": "a1f7c224",
   "metadata": {},
   "source": [
    "### Impute Numeric Attributes"
   ]
  },
  {
   "cell_type": "code",
   "execution_count": 20,
   "id": "a3c662f1",
   "metadata": {},
   "outputs": [],
   "source": [
    "cat_cols=df.select_dtypes(include=['object']).columns\n",
    "num_cols = df.select_dtypes(include=['float64','int64']).columns"
   ]
  },
  {
   "cell_type": "code",
   "execution_count": 21,
   "id": "536bcfc3",
   "metadata": {},
   "outputs": [],
   "source": [
    "from sklearn.impute import SimpleImputer\n",
    "imputer = SimpleImputer(missing_values=np.nan,strategy=\"median\")\n",
    "cols = df[num_cols].columns\n",
    "df[cols] = imputer.fit_transform(df[cols])"
   ]
  },
  {
   "cell_type": "markdown",
   "id": "c3fd1307",
   "metadata": {},
   "source": [
    "### Impute Categorical Attributes"
   ]
  },
  {
   "cell_type": "code",
   "execution_count": 22,
   "id": "6810bace",
   "metadata": {},
   "outputs": [],
   "source": [
    "imputer = SimpleImputer(missing_values=np.nan,strategy=\"most_frequent\")\n",
    "cols = df[cat_cols].columns\n",
    "df[cols] = imputer.fit_transform(df[cols])"
   ]
  },
  {
   "cell_type": "code",
   "execution_count": 23,
   "id": "c9858ca6",
   "metadata": {},
   "outputs": [
    {
     "data": {
      "text/plain": [
       "CustomerID                    0\n",
       "InsuredAge                    0\n",
       "InsuredZipCode                0\n",
       "InsuredGender                 0\n",
       "InsuredEducationLevel         0\n",
       "InsuredOccupation             0\n",
       "InsuredHobbies                0\n",
       "CapitalGains                  0\n",
       "CapitalLoss                   0\n",
       "Country                       0\n",
       "DateOfIncident                0\n",
       "TypeOfIncident                0\n",
       "TypeOfCollission              0\n",
       "SeverityOfIncident            0\n",
       "AuthoritiesContacted          0\n",
       "IncidentState                 0\n",
       "IncidentCity                  0\n",
       "IncidentAddress               0\n",
       "IncidentTime                  0\n",
       "NumberOfVehicles              0\n",
       "PropertyDamage                0\n",
       "BodilyInjuries                0\n",
       "Witnesses                     0\n",
       "PoliceReport                  0\n",
       "AmountOfTotalClaim            0\n",
       "AmountOfInjuryClaim           0\n",
       "AmountOfPropertyClaim         0\n",
       "AmountOfVehicleDamage         0\n",
       "VehicleID                     0\n",
       "VehicleModel                  0\n",
       "VehicleMake                   0\n",
       "VehicleYOM                    0\n",
       "InsurancePolicyNumber         0\n",
       "CustomerLoyaltyPeriod         0\n",
       "DateOfPolicyCoverage          0\n",
       "InsurancePolicyState          0\n",
       "Policy_CombinedSingleLimit    0\n",
       "Policy_Deductible             0\n",
       "PolicyAnnualPremium           0\n",
       "UmbrellaLimit                 0\n",
       "InsuredRelationship           0\n",
       "ReportedFraud                 0\n",
       "dtype: int64"
      ]
     },
     "execution_count": 23,
     "metadata": {},
     "output_type": "execute_result"
    }
   ],
   "source": [
    "df.isnull().sum()"
   ]
  },
  {
   "cell_type": "markdown",
   "id": "df6220db",
   "metadata": {},
   "source": [
    "## Conversion of Data Types"
   ]
  },
  {
   "cell_type": "code",
   "execution_count": 24,
   "id": "3c5ab7bf",
   "metadata": {},
   "outputs": [
    {
     "data": {
      "text/plain": [
       "CustomerID                     object\n",
       "InsuredAge                    float64\n",
       "InsuredZipCode                float64\n",
       "InsuredGender                  object\n",
       "InsuredEducationLevel          object\n",
       "InsuredOccupation              object\n",
       "InsuredHobbies                 object\n",
       "CapitalGains                  float64\n",
       "CapitalLoss                   float64\n",
       "Country                        object\n",
       "DateOfIncident                 object\n",
       "TypeOfIncident                 object\n",
       "TypeOfCollission               object\n",
       "SeverityOfIncident             object\n",
       "AuthoritiesContacted           object\n",
       "IncidentState                  object\n",
       "IncidentCity                   object\n",
       "IncidentAddress                object\n",
       "IncidentTime                  float64\n",
       "NumberOfVehicles              float64\n",
       "PropertyDamage                 object\n",
       "BodilyInjuries                float64\n",
       "Witnesses                     float64\n",
       "PoliceReport                   object\n",
       "AmountOfTotalClaim            float64\n",
       "AmountOfInjuryClaim           float64\n",
       "AmountOfPropertyClaim         float64\n",
       "AmountOfVehicleDamage         float64\n",
       "VehicleID                      object\n",
       "VehicleModel                   object\n",
       "VehicleMake                    object\n",
       "VehicleYOM                     object\n",
       "InsurancePolicyNumber         float64\n",
       "CustomerLoyaltyPeriod         float64\n",
       "DateOfPolicyCoverage           object\n",
       "InsurancePolicyState           object\n",
       "Policy_CombinedSingleLimit     object\n",
       "Policy_Deductible             float64\n",
       "PolicyAnnualPremium           float64\n",
       "UmbrellaLimit                 float64\n",
       "InsuredRelationship            object\n",
       "ReportedFraud                  object\n",
       "dtype: object"
      ]
     },
     "execution_count": 24,
     "metadata": {},
     "output_type": "execute_result"
    }
   ],
   "source": [
    "df.dtypes"
   ]
  },
  {
   "cell_type": "code",
   "execution_count": 25,
   "id": "ff0226e1",
   "metadata": {},
   "outputs": [],
   "source": [
    "df[cat_cols] = df[cat_cols].apply(lambda col: col.astype('category'))\n",
    "df[num_cols] = df[num_cols].apply(lambda col: col.astype('float64'))"
   ]
  },
  {
   "cell_type": "code",
   "execution_count": 26,
   "id": "9191a692",
   "metadata": {},
   "outputs": [
    {
     "data": {
      "text/plain": [
       "CustomerID                    category\n",
       "InsuredAge                     float64\n",
       "InsuredZipCode                 float64\n",
       "InsuredGender                 category\n",
       "InsuredEducationLevel         category\n",
       "InsuredOccupation             category\n",
       "InsuredHobbies                category\n",
       "CapitalGains                   float64\n",
       "CapitalLoss                    float64\n",
       "Country                       category\n",
       "DateOfIncident                category\n",
       "TypeOfIncident                category\n",
       "TypeOfCollission              category\n",
       "SeverityOfIncident            category\n",
       "AuthoritiesContacted          category\n",
       "IncidentState                 category\n",
       "IncidentCity                  category\n",
       "IncidentAddress               category\n",
       "IncidentTime                   float64\n",
       "NumberOfVehicles               float64\n",
       "PropertyDamage                category\n",
       "BodilyInjuries                 float64\n",
       "Witnesses                      float64\n",
       "PoliceReport                  category\n",
       "AmountOfTotalClaim             float64\n",
       "AmountOfInjuryClaim            float64\n",
       "AmountOfPropertyClaim          float64\n",
       "AmountOfVehicleDamage          float64\n",
       "VehicleID                     category\n",
       "VehicleModel                  category\n",
       "VehicleMake                   category\n",
       "VehicleYOM                    category\n",
       "InsurancePolicyNumber          float64\n",
       "CustomerLoyaltyPeriod          float64\n",
       "DateOfPolicyCoverage          category\n",
       "InsurancePolicyState          category\n",
       "Policy_CombinedSingleLimit    category\n",
       "Policy_Deductible              float64\n",
       "PolicyAnnualPremium            float64\n",
       "UmbrellaLimit                  float64\n",
       "InsuredRelationship           category\n",
       "ReportedFraud                 category\n",
       "dtype: object"
      ]
     },
     "execution_count": 26,
     "metadata": {},
     "output_type": "execute_result"
    }
   ],
   "source": [
    "df.dtypes"
   ]
  },
  {
   "cell_type": "code",
   "execution_count": 27,
   "id": "f5a93cf4",
   "metadata": {},
   "outputs": [],
   "source": [
    "df.to_csv('insurance1.csv')"
   ]
  },
  {
   "cell_type": "markdown",
   "id": "de38b588",
   "metadata": {},
   "source": [
    "## Visualizations"
   ]
  },
  {
   "cell_type": "code",
   "execution_count": 28,
   "id": "ce113393",
   "metadata": {},
   "outputs": [
    {
     "data": {
      "image/png": "[encoded data removed]",
      "text/plain": [
       "<Figure size 640x480 with 1 Axes>"
      ]
     },
     "metadata": {},
     "output_type": "display_data"
    }
   ],
   "source": [
    "sns.set_theme(style=\"darkgrid\")\n",
    "sns.countplot(x= \"ReportedFraud\" ,data =df)\n",
    "plt.title(\"Count Plot\")\n",
    "plt.show()"
   ]
  },
  {
   "cell_type": "code",
   "execution_count": 29,
   "id": "d8f3128b",
   "metadata": {
    "scrolled": false
   },
   "outputs": [
    {
     "data": {
      "image/png": "[encoded data removed]",
      "text/plain": [
       "<Figure size 1000x1000 with 1 Axes>"
      ]
     },
     "metadata": {},
     "output_type": "display_data"
    }
   ],
   "source": [
    "f, ax = plt.subplots(figsize=(10, 10))\n",
    "sns.barplot(x = 'SeverityOfIncident', y = 'AmountOfTotalClaim', hue = 'ReportedFraud',\n",
    "                   data = df, orient='v')\n",
    "plt.show()"
   ]
  },
  {
   "cell_type": "code",
   "execution_count": 30,
   "id": "199dbfdc",
   "metadata": {},
   "outputs": [
    {
     "data": {
      "image/png": "[encoded data removed]",
      "text/plain": [
       "<Figure size 1000x1000 with 1 Axes>"
      ]
     },
     "metadata": {},
     "output_type": "display_data"
    }
   ],
   "source": [
    "f, ax = plt.subplots(figsize=(10, 10))\n",
    "sns.barplot(x = 'PoliceReport', y = 'AmountOfTotalClaim', hue='ReportedFraud',data = df)\n",
    "plt.show()"
   ]
  },
  {
   "cell_type": "code",
   "execution_count": 31,
   "id": "4df93af0",
   "metadata": {},
   "outputs": [
    {
     "data": {
      "image/png": "[encoded data removed]",
      "text/plain": [
       "<Figure size 1200x1200 with 1 Axes>"
      ]
     },
     "metadata": {},
     "output_type": "display_data"
    }
   ],
   "source": [
    "f, ax = plt.subplots(figsize=(12, 12))\n",
    "threshold=500\n",
    "sns.countplot(x = \"VehicleMake\" ,hue=\"ReportedFraud\",data=df)\n",
    "plt.axhline(threshold, color='black', ls='-',linewidth=4)\n",
    "plt.show()"
   ]
  },
  {
   "cell_type": "code",
   "execution_count": 32,
   "id": "c5801065",
   "metadata": {},
   "outputs": [
    {
     "data": {
      "image/png": "[encoded data removed]",
      "text/plain": [
       "<Figure size 1000x1000 with 1 Axes>"
      ]
     },
     "metadata": {},
     "output_type": "display_data"
    }
   ],
   "source": [
    "f, ax = plt.subplots(figsize=(10, 10))\n",
    "sns.lineplot(x = \"IncidentState\", y = \"AmountOfTotalClaim\", data = df, hue = \"ReportedFraud\",style=\"ReportedFraud\")\n",
    "plt.show()"
   ]
  },
  {
   "cell_type": "code",
   "execution_count": 33,
   "id": "493385d1",
   "metadata": {},
   "outputs": [
    {
     "data": {
      "image/png": "[encoded data removed]",
      "text/plain": [
       "<Figure size 1000x1000 with 1 Axes>"
      ]
     },
     "metadata": {},
     "output_type": "display_data"
    }
   ],
   "source": [
    "f, ax = plt.subplots(figsize=(10, 10))\n",
    "sns.countplot(x='NumberOfVehicles',hue='ReportedFraud',data=df)\n",
    "plt.show()"
   ]
  },
  {
   "cell_type": "code",
   "execution_count": 34,
   "id": "aed60ddb",
   "metadata": {},
   "outputs": [],
   "source": [
    "#Finding the outliers for numerical columns in the data"
   ]
  },
  {
   "cell_type": "code",
   "execution_count": 35,
   "id": "2e848c01",
   "metadata": {},
   "outputs": [
    {
     "data": {
      "image/png": "[encoded data removed]",
      "text/plain": [
       "<Figure size 1500x1500 with 25 Axes>"
      ]
     },
     "metadata": {},
     "output_type": "display_data"
    }
   ],
   "source": [
    "df.plot(kind='box',subplots=True,sharex=False,sharey=False,layout=(5,5),figsize=(15,15))\n",
    "plt.show()"
   ]
  },
  {
   "cell_type": "code",
   "execution_count": 38,
   "id": "17dfb14d",
   "metadata": {},
   "outputs": [
    {
     "data": {
      "text/plain": [
       "(28836, 42)"
      ]
     },
     "execution_count": 38,
     "metadata": {},
     "output_type": "execute_result"
    }
   ],
   "source": [
    "df.shape"
   ]
  },
  {
   "cell_type": "markdown",
   "id": "eecb8770",
   "metadata": {},
   "source": [
    "# standardize numeric attributes"
   ]
  },
  {
   "cell_type": "code",
   "execution_count": 39,
   "id": "4734b465",
   "metadata": {},
   "outputs": [],
   "source": [
    "from sklearn.preprocessing import StandardScaler\n",
    "scaler = StandardScaler()\n",
    "df[num_cols]=scaler.fit_transform(df[num_cols])"
   ]
  },
  {
   "cell_type": "code",
   "execution_count": 40,
   "id": "f0f001bb",
   "metadata": {},
   "outputs": [],
   "source": [
    "X = df.drop(\"ReportedFraud\",axis =1)\n",
    "y = df['ReportedFraud']"
   ]
  },
  {
   "cell_type": "code",
   "execution_count": 41,
   "id": "5a0cd127",
   "metadata": {},
   "outputs": [],
   "source": [
    "category = X.select_dtypes(include=['category']).columns\n",
    "numerical = X.select_dtypes(include=['float64']).columns"
   ]
  },
  {
   "cell_type": "code",
   "execution_count": 42,
   "id": "5cee2885",
   "metadata": {},
   "outputs": [
    {
     "data": {
      "text/plain": [
       "Index(['CustomerID', 'InsuredGender', 'InsuredEducationLevel',\n",
       "       'InsuredOccupation', 'InsuredHobbies', 'Country', 'DateOfIncident',\n",
       "       'TypeOfIncident', 'TypeOfCollission', 'SeverityOfIncident',\n",
       "       'AuthoritiesContacted', 'IncidentState', 'IncidentCity',\n",
       "       'IncidentAddress', 'PropertyDamage', 'PoliceReport', 'VehicleID',\n",
       "       'VehicleModel', 'VehicleMake', 'VehicleYOM', 'DateOfPolicyCoverage',\n",
       "       'InsurancePolicyState', 'Policy_CombinedSingleLimit',\n",
       "       'InsuredRelationship'],\n",
       "      dtype='object')"
      ]
     },
     "execution_count": 42,
     "metadata": {},
     "output_type": "execute_result"
    }
   ],
   "source": [
    "category"
   ]
  },
  {
   "cell_type": "markdown",
   "id": "a59b256a",
   "metadata": {},
   "source": [
    "## Label Encoding"
   ]
  },
  {
   "cell_type": "code",
   "execution_count": 43,
   "id": "a02a56af",
   "metadata": {},
   "outputs": [],
   "source": [
    "from sklearn.preprocessing import LabelEncoder\n",
    "label_encoders = {}\n",
    "categorical_columns = category\n",
    "\n",
    "for column in categorical_columns:\n",
    "    label_encoders[column] = LabelEncoder()\n",
    "    X[column] = label_encoders[column].fit_transform(X[column])"
   ]
  },
  {
   "cell_type": "code",
   "execution_count": 44,
   "id": "293f43a1",
   "metadata": {},
   "outputs": [],
   "source": [
    "le = LabelEncoder()\n",
    "\n",
    "y = le.fit_transform(y)"
   ]
  },
  {
   "cell_type": "code",
   "execution_count": 45,
   "id": "47906bc1",
   "metadata": {},
   "outputs": [],
   "source": [
    "from sklearn.model_selection import train_test_split"
   ]
  },
  {
   "cell_type": "code",
   "execution_count": 46,
   "id": "a565d57c",
   "metadata": {},
   "outputs": [],
   "source": [
    "X_train,X_validation,y_train,y_validation = train_test_split(X,y,test_size=0.2,random_state=13456,stratify=y)"
   ]
  },
  {
   "cell_type": "code",
   "execution_count": 47,
   "id": "b6a0ad86",
   "metadata": {},
   "outputs": [
    {
     "name": "stdout",
     "output_type": "stream",
     "text": [
      "shape of X_train: (23068, 41)\n",
      "shape of X_validation: (5768, 41)\n",
      "shape of y_train: (23068,)\n",
      "shape of y_validation: (5768,)\n"
     ]
    }
   ],
   "source": [
    "print(\"shape of X_train:\",X_train.shape)\n",
    "print(\"shape of X_validation:\",X_validation.shape)\n",
    "print(\"shape of y_train:\",y_train.shape)\n",
    "print(\"shape of y_validation:\",y_validation.shape)"
   ]
  },
  {
   "cell_type": "markdown",
   "id": "8b2d0ca2",
   "metadata": {},
   "source": [
    "## Model Building"
   ]
  },
  {
   "cell_type": "markdown",
   "id": "91023a7f",
   "metadata": {},
   "source": [
    "### Defining Error Metrics"
   ]
  },
  {
   "cell_type": "markdown",
   "id": "35e6ede7",
   "metadata": {},
   "source": [
    "We choose F1_Score as an Error Metric"
   ]
  },
  {
   "cell_type": "markdown",
   "id": "9d5fc9a2",
   "metadata": {},
   "source": [
    "The F1-score combines the precision and recall of a classifier into a single metric by taking their harmonic mean."
   ]
  },
  {
   "cell_type": "code",
   "execution_count": 243,
   "id": "13b7710a",
   "metadata": {},
   "outputs": [],
   "source": [
    "scores = pd.DataFrame(columns=['Model','Train_F1_Score','validation_F1_Score'])\n",
    "\n",
    "def get_metrics(train_actual,train_predicted,test_actual,test_predicted,model_description,dataframe):\n",
    "    train_f1score  = f1_score(train_actual,train_predicted,average=\"weighted\")\n",
    "    validation_f1score  = f1_score(test_actual,test_predicted,average=\"weighted\")\n",
    "    dataframe = dataframe.append(pd.Series([model_description,train_f1score,validation_f1score],\n",
    "                                            index=scores.columns ), ignore_index=True)\n",
    "    return(dataframe)"
   ]
  },
  {
   "cell_type": "markdown",
   "id": "e0534fb7",
   "metadata": {},
   "source": [
    "## Logistic Regression"
   ]
  },
  {
   "cell_type": "code",
   "execution_count": 244,
   "id": "85edf8ab",
   "metadata": {},
   "outputs": [],
   "source": [
    "from sklearn.linear_model import LogisticRegression\n",
    "from sklearn.metrics import f1_score\n",
    "l_model = LogisticRegression()"
   ]
  },
  {
   "cell_type": "code",
   "execution_count": 245,
   "id": "5b7e9a73",
   "metadata": {},
   "outputs": [
    {
     "data": {
      "text/plain": [
       "LogisticRegression()"
      ]
     },
     "execution_count": 245,
     "metadata": {},
     "output_type": "execute_result"
    }
   ],
   "source": [
    "l_model.fit(X_train, y_train)"
   ]
  },
  {
   "cell_type": "code",
   "execution_count": 246,
   "id": "61f31ff1",
   "metadata": {},
   "outputs": [],
   "source": [
    "y_train_Pred = l_model.predict(X_train)\n",
    "y_validation_Pred = l_model.predict(X_validation)"
   ]
  },
  {
   "cell_type": "code",
   "execution_count": 247,
   "id": "0b431bca",
   "metadata": {},
   "outputs": [
    {
     "data": {
      "text/html": [
       "<div>\n",
       "<style scoped>\n",
       "    .dataframe tbody tr th:only-of-type {\n",
       "        vertical-align: middle;\n",
       "    }\n",
       "\n",
       "    .dataframe tbody tr th {\n",
       "        vertical-align: top;\n",
       "    }\n",
       "\n",
       "    .dataframe thead th {\n",
       "        text-align: right;\n",
       "    }\n",
       "</style>\n",
       "<table border=\"1\" class=\"dataframe\">\n",
       "  <thead>\n",
       "    <tr style=\"text-align: right;\">\n",
       "      <th></th>\n",
       "      <th>Model</th>\n",
       "      <th>Train_F1_Score</th>\n",
       "      <th>validation_F1_Score</th>\n",
       "    </tr>\n",
       "  </thead>\n",
       "  <tbody>\n",
       "    <tr>\n",
       "      <th>0</th>\n",
       "      <td>Logistic_Regression</td>\n",
       "      <td>0.685133</td>\n",
       "      <td>0.692565</td>\n",
       "    </tr>\n",
       "  </tbody>\n",
       "</table>\n",
       "</div>"
      ],
      "text/plain": [
       "                 Model  Train_F1_Score  validation_F1_Score\n",
       "0  Logistic_Regression        0.685133             0.692565"
      ]
     },
     "execution_count": 247,
     "metadata": {},
     "output_type": "execute_result"
    }
   ],
   "source": [
    "scores = get_metrics(y_train,y_train_Pred,y_validation,y_validation_Pred,\"Logistic_Regression\",scores)\n",
    "scores"
   ]
  },
  {
   "cell_type": "code",
   "execution_count": 248,
   "id": "d04318c6",
   "metadata": {},
   "outputs": [],
   "source": [
    "from mlxtend.plotting import plot_learning_curves"
   ]
  },
  {
   "cell_type": "code",
   "execution_count": 249,
   "id": "480c30bc",
   "metadata": {},
   "outputs": [
    {
     "data": {
      "image/png": "[encoded data removed]",
      "text/plain": [
       "<Figure size 640x480 with 1 Axes>"
      ]
     },
     "metadata": {},
     "output_type": "display_data"
    }
   ],
   "source": [
    "plot_learning_curves(X_train,y_train,X_validation,y_validation,l_model,scoring='f1')\n",
    "plt.show()"
   ]
  },
  {
   "cell_type": "markdown",
   "id": "c70bdfaf",
   "metadata": {},
   "source": [
    "## Naive bayes "
   ]
  },
  {
   "cell_type": "code",
   "execution_count": 250,
   "id": "f985500e",
   "metadata": {},
   "outputs": [],
   "source": [
    "from sklearn.naive_bayes import GaussianNB"
   ]
  },
  {
   "cell_type": "code",
   "execution_count": 251,
   "id": "e772667d",
   "metadata": {},
   "outputs": [
    {
     "data": {
      "text/plain": [
       "GaussianNB()"
      ]
     },
     "execution_count": 251,
     "metadata": {},
     "output_type": "execute_result"
    }
   ],
   "source": [
    "naive_classfier = GaussianNB()\n",
    "naive_classfier.fit(X_train,y_train)"
   ]
  },
  {
   "cell_type": "code",
   "execution_count": 252,
   "id": "de12d227",
   "metadata": {},
   "outputs": [],
   "source": [
    "y_train_Pred = naive_classfier.predict(X_train)\n",
    "y_validation_Pred = naive_classfier.predict(X_validation)"
   ]
  },
  {
   "cell_type": "code",
   "execution_count": 253,
   "id": "88651898",
   "metadata": {},
   "outputs": [
    {
     "data": {
      "text/html": [
       "<div>\n",
       "<style scoped>\n",
       "    .dataframe tbody tr th:only-of-type {\n",
       "        vertical-align: middle;\n",
       "    }\n",
       "\n",
       "    .dataframe tbody tr th {\n",
       "        vertical-align: top;\n",
       "    }\n",
       "\n",
       "    .dataframe thead th {\n",
       "        text-align: right;\n",
       "    }\n",
       "</style>\n",
       "<table border=\"1\" class=\"dataframe\">\n",
       "  <thead>\n",
       "    <tr style=\"text-align: right;\">\n",
       "      <th></th>\n",
       "      <th>Model</th>\n",
       "      <th>Train_F1_Score</th>\n",
       "      <th>validation_F1_Score</th>\n",
       "    </tr>\n",
       "  </thead>\n",
       "  <tbody>\n",
       "    <tr>\n",
       "      <th>0</th>\n",
       "      <td>Logistic_Regression</td>\n",
       "      <td>0.685133</td>\n",
       "      <td>0.692565</td>\n",
       "    </tr>\n",
       "    <tr>\n",
       "      <th>1</th>\n",
       "      <td>Naive_Bayes</td>\n",
       "      <td>0.820552</td>\n",
       "      <td>0.829704</td>\n",
       "    </tr>\n",
       "  </tbody>\n",
       "</table>\n",
       "</div>"
      ],
      "text/plain": [
       "                 Model  Train_F1_Score  validation_F1_Score\n",
       "0  Logistic_Regression        0.685133             0.692565\n",
       "1          Naive_Bayes        0.820552             0.829704"
      ]
     },
     "execution_count": 253,
     "metadata": {},
     "output_type": "execute_result"
    }
   ],
   "source": [
    "scores = get_metrics(y_train,y_train_Pred,y_validation,y_validation_Pred,\"Naive_Bayes\",scores)\n",
    "scores"
   ]
  },
  {
   "cell_type": "code",
   "execution_count": 254,
   "id": "be0b4aeb",
   "metadata": {},
   "outputs": [
    {
     "data": {
      "image/png": "[encoded data removed]",
      "text/plain": [
       "<Figure size 640x480 with 1 Axes>"
      ]
     },
     "metadata": {},
     "output_type": "display_data"
    }
   ],
   "source": [
    "plot_learning_curves(X_train,y_train,X_validation,y_validation,naive_classfier,scoring='f1')\n",
    "plt.show()"
   ]
  },
  {
   "cell_type": "markdown",
   "id": "3795f583",
   "metadata": {},
   "source": [
    "### Logistic model 2 - Using Penalty as 'L1'"
   ]
  },
  {
   "cell_type": "code",
   "execution_count": 255,
   "id": "e26e335d",
   "metadata": {},
   "outputs": [
    {
     "data": {
      "text/plain": [
       "LogisticRegression(penalty='l1', solver='liblinear')"
      ]
     },
     "execution_count": 255,
     "metadata": {},
     "output_type": "execute_result"
    }
   ],
   "source": [
    "#lasso\n",
    "l1_model = LogisticRegression(penalty='l1', solver='liblinear')\n",
    "l1_model.fit(X_train,y_train)"
   ]
  },
  {
   "cell_type": "code",
   "execution_count": 256,
   "id": "45424edc",
   "metadata": {},
   "outputs": [],
   "source": [
    "y_train_Pred = l1_model.predict(X_train)\n",
    "y_validation_Pred = l1_model.predict(X_validation)"
   ]
  },
  {
   "cell_type": "code",
   "execution_count": 257,
   "id": "cf632a06",
   "metadata": {},
   "outputs": [
    {
     "data": {
      "text/html": [
       "<div>\n",
       "<style scoped>\n",
       "    .dataframe tbody tr th:only-of-type {\n",
       "        vertical-align: middle;\n",
       "    }\n",
       "\n",
       "    .dataframe tbody tr th {\n",
       "        vertical-align: top;\n",
       "    }\n",
       "\n",
       "    .dataframe thead th {\n",
       "        text-align: right;\n",
       "    }\n",
       "</style>\n",
       "<table border=\"1\" class=\"dataframe\">\n",
       "  <thead>\n",
       "    <tr style=\"text-align: right;\">\n",
       "      <th></th>\n",
       "      <th>Model</th>\n",
       "      <th>Train_F1_Score</th>\n",
       "      <th>validation_F1_Score</th>\n",
       "    </tr>\n",
       "  </thead>\n",
       "  <tbody>\n",
       "    <tr>\n",
       "      <th>0</th>\n",
       "      <td>Logistic_Regression</td>\n",
       "      <td>0.685133</td>\n",
       "      <td>0.692565</td>\n",
       "    </tr>\n",
       "    <tr>\n",
       "      <th>1</th>\n",
       "      <td>Naive_Bayes</td>\n",
       "      <td>0.820552</td>\n",
       "      <td>0.829704</td>\n",
       "    </tr>\n",
       "    <tr>\n",
       "      <th>2</th>\n",
       "      <td>L1_model</td>\n",
       "      <td>0.823122</td>\n",
       "      <td>0.829774</td>\n",
       "    </tr>\n",
       "  </tbody>\n",
       "</table>\n",
       "</div>"
      ],
      "text/plain": [
       "                 Model  Train_F1_Score  validation_F1_Score\n",
       "0  Logistic_Regression        0.685133             0.692565\n",
       "1          Naive_Bayes        0.820552             0.829704\n",
       "2             L1_model        0.823122             0.829774"
      ]
     },
     "execution_count": 257,
     "metadata": {},
     "output_type": "execute_result"
    }
   ],
   "source": [
    "scores = get_metrics(y_train,y_train_Pred,y_validation,y_validation_Pred,\"L1_model\",scores)\n",
    "scores"
   ]
  },
  {
   "cell_type": "code",
   "execution_count": 258,
   "id": "28b26741",
   "metadata": {},
   "outputs": [
    {
     "data": {
      "image/png": "[encoded data removed]",
      "text/plain": [
       "<Figure size 640x480 with 1 Axes>"
      ]
     },
     "metadata": {},
     "output_type": "display_data"
    }
   ],
   "source": [
    "plot_learning_curves(X_train,y_train,X_validation,y_validation,l1_model,scoring='f1')\n",
    "plt.show()"
   ]
  },
  {
   "cell_type": "markdown",
   "id": "a7d8c98c",
   "metadata": {},
   "source": [
    "## Logistic model 2 - Using Penalty as 'L2'"
   ]
  },
  {
   "cell_type": "code",
   "execution_count": 259,
   "id": "b1262a29",
   "metadata": {},
   "outputs": [
    {
     "data": {
      "text/plain": [
       "LogisticRegression(solver='liblinear')"
      ]
     },
     "execution_count": 259,
     "metadata": {},
     "output_type": "execute_result"
    }
   ],
   "source": [
    "#Ridge \n",
    "l2_model = LogisticRegression(penalty='l2', solver='liblinear')\n",
    "l2_model.fit(X_train,y_train)"
   ]
  },
  {
   "cell_type": "code",
   "execution_count": 260,
   "id": "779d450d",
   "metadata": {},
   "outputs": [],
   "source": [
    "y_train_Pred = l2_model.predict(X_train)\n",
    "y_validation_Pred = l2_model.predict(X_validation)"
   ]
  },
  {
   "cell_type": "code",
   "execution_count": 261,
   "id": "2dd79d9b",
   "metadata": {},
   "outputs": [
    {
     "data": {
      "text/html": [
       "<div>\n",
       "<style scoped>\n",
       "    .dataframe tbody tr th:only-of-type {\n",
       "        vertical-align: middle;\n",
       "    }\n",
       "\n",
       "    .dataframe tbody tr th {\n",
       "        vertical-align: top;\n",
       "    }\n",
       "\n",
       "    .dataframe thead th {\n",
       "        text-align: right;\n",
       "    }\n",
       "</style>\n",
       "<table border=\"1\" class=\"dataframe\">\n",
       "  <thead>\n",
       "    <tr style=\"text-align: right;\">\n",
       "      <th></th>\n",
       "      <th>Model</th>\n",
       "      <th>Train_F1_Score</th>\n",
       "      <th>validation_F1_Score</th>\n",
       "    </tr>\n",
       "  </thead>\n",
       "  <tbody>\n",
       "    <tr>\n",
       "      <th>0</th>\n",
       "      <td>Logistic_Regression</td>\n",
       "      <td>0.685133</td>\n",
       "      <td>0.692565</td>\n",
       "    </tr>\n",
       "    <tr>\n",
       "      <th>1</th>\n",
       "      <td>Naive_Bayes</td>\n",
       "      <td>0.820552</td>\n",
       "      <td>0.829704</td>\n",
       "    </tr>\n",
       "    <tr>\n",
       "      <th>2</th>\n",
       "      <td>L1_model</td>\n",
       "      <td>0.823122</td>\n",
       "      <td>0.829774</td>\n",
       "    </tr>\n",
       "    <tr>\n",
       "      <th>3</th>\n",
       "      <td>L2_model</td>\n",
       "      <td>0.824674</td>\n",
       "      <td>0.829687</td>\n",
       "    </tr>\n",
       "  </tbody>\n",
       "</table>\n",
       "</div>"
      ],
      "text/plain": [
       "                 Model  Train_F1_Score  validation_F1_Score\n",
       "0  Logistic_Regression        0.685133             0.692565\n",
       "1          Naive_Bayes        0.820552             0.829704\n",
       "2             L1_model        0.823122             0.829774\n",
       "3             L2_model        0.824674             0.829687"
      ]
     },
     "execution_count": 261,
     "metadata": {},
     "output_type": "execute_result"
    }
   ],
   "source": [
    "scores = get_metrics(y_train,y_train_Pred,y_validation,y_validation_Pred,\"L2_model\",scores)\n",
    "scores"
   ]
  },
  {
   "cell_type": "code",
   "execution_count": 262,
   "id": "2be0f66f",
   "metadata": {},
   "outputs": [
    {
     "data": {
      "image/png": "[encoded data removed]",
      "text/plain": [
       "<Figure size 640x480 with 1 Axes>"
      ]
     },
     "metadata": {},
     "output_type": "display_data"
    }
   ],
   "source": [
    "plot_learning_curves(X_train,y_train,X_validation,y_validation,l2_model,scoring='f1')\n",
    "plt.show()"
   ]
  },
  {
   "cell_type": "markdown",
   "id": "0b386d50",
   "metadata": {},
   "source": [
    "## Using  'elasticnet'"
   ]
  },
  {
   "cell_type": "code",
   "execution_count": 263,
   "id": "d6ab9f62",
   "metadata": {},
   "outputs": [
    {
     "data": {
      "text/plain": [
       "LogisticRegression(l1_ratio=0.5, penalty='elasticnet', solver='saga')"
      ]
     },
     "execution_count": 263,
     "metadata": {},
     "output_type": "execute_result"
    }
   ],
   "source": [
    "#Elastic Limit \n",
    "Elasticnet_model = LogisticRegression(penalty='elasticnet', solver='saga',l1_ratio=0.5)\n",
    "Elasticnet_model.fit(X_train,y_train)"
   ]
  },
  {
   "cell_type": "code",
   "execution_count": 264,
   "id": "ef6345aa",
   "metadata": {},
   "outputs": [],
   "source": [
    "y_train_Pred = Elasticnet_model.predict(X_train)\n",
    "y_validation_Pred = Elasticnet_model.predict(X_validation)"
   ]
  },
  {
   "cell_type": "code",
   "execution_count": 265,
   "id": "0773191a",
   "metadata": {},
   "outputs": [
    {
     "data": {
      "text/html": [
       "<div>\n",
       "<style scoped>\n",
       "    .dataframe tbody tr th:only-of-type {\n",
       "        vertical-align: middle;\n",
       "    }\n",
       "\n",
       "    .dataframe tbody tr th {\n",
       "        vertical-align: top;\n",
       "    }\n",
       "\n",
       "    .dataframe thead th {\n",
       "        text-align: right;\n",
       "    }\n",
       "</style>\n",
       "<table border=\"1\" class=\"dataframe\">\n",
       "  <thead>\n",
       "    <tr style=\"text-align: right;\">\n",
       "      <th></th>\n",
       "      <th>Model</th>\n",
       "      <th>Train_F1_Score</th>\n",
       "      <th>validation_F1_Score</th>\n",
       "    </tr>\n",
       "  </thead>\n",
       "  <tbody>\n",
       "    <tr>\n",
       "      <th>0</th>\n",
       "      <td>Logistic_Regression</td>\n",
       "      <td>0.685133</td>\n",
       "      <td>0.692565</td>\n",
       "    </tr>\n",
       "    <tr>\n",
       "      <th>1</th>\n",
       "      <td>Naive_Bayes</td>\n",
       "      <td>0.820552</td>\n",
       "      <td>0.829704</td>\n",
       "    </tr>\n",
       "    <tr>\n",
       "      <th>2</th>\n",
       "      <td>L1_model</td>\n",
       "      <td>0.823122</td>\n",
       "      <td>0.829774</td>\n",
       "    </tr>\n",
       "    <tr>\n",
       "      <th>3</th>\n",
       "      <td>L2_model</td>\n",
       "      <td>0.824674</td>\n",
       "      <td>0.829687</td>\n",
       "    </tr>\n",
       "    <tr>\n",
       "      <th>4</th>\n",
       "      <td>elasticnet</td>\n",
       "      <td>0.618117</td>\n",
       "      <td>0.625005</td>\n",
       "    </tr>\n",
       "  </tbody>\n",
       "</table>\n",
       "</div>"
      ],
      "text/plain": [
       "                 Model  Train_F1_Score  validation_F1_Score\n",
       "0  Logistic_Regression        0.685133             0.692565\n",
       "1          Naive_Bayes        0.820552             0.829704\n",
       "2             L1_model        0.823122             0.829774\n",
       "3             L2_model        0.824674             0.829687\n",
       "4           elasticnet        0.618117             0.625005"
      ]
     },
     "execution_count": 265,
     "metadata": {},
     "output_type": "execute_result"
    }
   ],
   "source": [
    "scores = get_metrics(y_train,y_train_Pred,y_validation,y_validation_Pred,\"elasticnet\",scores)\n",
    "scores"
   ]
  },
  {
   "cell_type": "code",
   "execution_count": 266,
   "id": "13858cb9",
   "metadata": {},
   "outputs": [
    {
     "data": {
      "image/png": "[encoded data removed]",
      "text/plain": [
       "<Figure size 640x480 with 1 Axes>"
      ]
     },
     "metadata": {},
     "output_type": "display_data"
    }
   ],
   "source": [
    "plot_learning_curves(X_train,y_train,X_validation,y_validation,Elasticnet_model,scoring='f1')\n",
    "plt.show()"
   ]
  },
  {
   "cell_type": "markdown",
   "id": "a72eb852",
   "metadata": {},
   "source": [
    "# Decision tree "
   ]
  },
  {
   "cell_type": "code",
   "execution_count": 267,
   "id": "7b7f6e93",
   "metadata": {},
   "outputs": [],
   "source": [
    "from sklearn.tree import DecisionTreeClassifier\n",
    "decisionTree_model = DecisionTreeClassifier(criterion= \"entropy\", max_depth=10)"
   ]
  },
  {
   "cell_type": "code",
   "execution_count": 268,
   "id": "1b36a222",
   "metadata": {},
   "outputs": [
    {
     "data": {
      "text/plain": [
       "DecisionTreeClassifier(criterion='entropy', max_depth=10)"
      ]
     },
     "execution_count": 268,
     "metadata": {},
     "output_type": "execute_result"
    }
   ],
   "source": [
    "decisionTree_model.fit(X_train,y_train)"
   ]
  },
  {
   "cell_type": "code",
   "execution_count": 269,
   "id": "b6eaa46a",
   "metadata": {},
   "outputs": [],
   "source": [
    "y_train_Pred = decisionTree_model.predict(X_train)\n",
    "y_validation_Pred = decisionTree_model.predict(X_validation)"
   ]
  },
  {
   "cell_type": "code",
   "execution_count": 270,
   "id": "a572bd13",
   "metadata": {},
   "outputs": [
    {
     "data": {
      "text/html": [
       "<div>\n",
       "<style scoped>\n",
       "    .dataframe tbody tr th:only-of-type {\n",
       "        vertical-align: middle;\n",
       "    }\n",
       "\n",
       "    .dataframe tbody tr th {\n",
       "        vertical-align: top;\n",
       "    }\n",
       "\n",
       "    .dataframe thead th {\n",
       "        text-align: right;\n",
       "    }\n",
       "</style>\n",
       "<table border=\"1\" class=\"dataframe\">\n",
       "  <thead>\n",
       "    <tr style=\"text-align: right;\">\n",
       "      <th></th>\n",
       "      <th>Model</th>\n",
       "      <th>Train_F1_Score</th>\n",
       "      <th>validation_F1_Score</th>\n",
       "    </tr>\n",
       "  </thead>\n",
       "  <tbody>\n",
       "    <tr>\n",
       "      <th>0</th>\n",
       "      <td>Logistic_Regression</td>\n",
       "      <td>0.685133</td>\n",
       "      <td>0.692565</td>\n",
       "    </tr>\n",
       "    <tr>\n",
       "      <th>1</th>\n",
       "      <td>Naive_Bayes</td>\n",
       "      <td>0.820552</td>\n",
       "      <td>0.829704</td>\n",
       "    </tr>\n",
       "    <tr>\n",
       "      <th>2</th>\n",
       "      <td>L1_model</td>\n",
       "      <td>0.823122</td>\n",
       "      <td>0.829774</td>\n",
       "    </tr>\n",
       "    <tr>\n",
       "      <th>3</th>\n",
       "      <td>L2_model</td>\n",
       "      <td>0.824674</td>\n",
       "      <td>0.829687</td>\n",
       "    </tr>\n",
       "    <tr>\n",
       "      <th>4</th>\n",
       "      <td>elasticnet</td>\n",
       "      <td>0.618117</td>\n",
       "      <td>0.625005</td>\n",
       "    </tr>\n",
       "    <tr>\n",
       "      <th>5</th>\n",
       "      <td>DecisionTreeClassifier</td>\n",
       "      <td>0.940129</td>\n",
       "      <td>0.913863</td>\n",
       "    </tr>\n",
       "  </tbody>\n",
       "</table>\n",
       "</div>"
      ],
      "text/plain": [
       "                    Model  Train_F1_Score  validation_F1_Score\n",
       "0     Logistic_Regression        0.685133             0.692565\n",
       "1             Naive_Bayes        0.820552             0.829704\n",
       "2                L1_model        0.823122             0.829774\n",
       "3                L2_model        0.824674             0.829687\n",
       "4              elasticnet        0.618117             0.625005\n",
       "5  DecisionTreeClassifier        0.940129             0.913863"
      ]
     },
     "execution_count": 270,
     "metadata": {},
     "output_type": "execute_result"
    }
   ],
   "source": [
    "scores = get_metrics(y_train,y_train_Pred,y_validation,y_validation_Pred,\"DecisionTreeClassifier\",scores)\n",
    "scores"
   ]
  },
  {
   "cell_type": "markdown",
   "id": "cffa9626",
   "metadata": {},
   "source": [
    "# KNN"
   ]
  },
  {
   "cell_type": "code",
   "execution_count": 277,
   "id": "b1b5af32",
   "metadata": {},
   "outputs": [],
   "source": [
    "from sklearn.neighbors import KNeighborsClassifier"
   ]
  },
  {
   "cell_type": "code",
   "execution_count": 278,
   "id": "da727cfd",
   "metadata": {},
   "outputs": [],
   "source": [
    "from sklearn.model_selection import GridSearchCV, cross_val_score"
   ]
  },
  {
   "cell_type": "code",
   "execution_count": 279,
   "id": "01670d0f",
   "metadata": {},
   "outputs": [],
   "source": [
    "knn = KNeighborsClassifier()"
   ]
  },
  {
   "cell_type": "code",
   "execution_count": 280,
   "id": "989d80a3",
   "metadata": {},
   "outputs": [],
   "source": [
    "k_range = list(range(1, 31))\n",
    "param_grid = dict(n_neighbors=k_range)"
   ]
  },
  {
   "cell_type": "code",
   "execution_count": 281,
   "id": "e916cf8a",
   "metadata": {},
   "outputs": [],
   "source": [
    "grid = GridSearchCV(knn, param_grid, cv=10, scoring='f1', return_train_score=False,verbose=1)"
   ]
  },
  {
   "cell_type": "code",
   "execution_count": 282,
   "id": "7ae71bbb",
   "metadata": {},
   "outputs": [
    {
     "name": "stdout",
     "output_type": "stream",
     "text": [
      "Fitting 10 folds for each of 30 candidates, totalling 300 fits\n"
     ]
    }
   ],
   "source": [
    "grid_search=grid.fit(X_train, y_train)"
   ]
  },
  {
   "cell_type": "code",
   "execution_count": 283,
   "id": "71557bde",
   "metadata": {},
   "outputs": [
    {
     "name": "stdout",
     "output_type": "stream",
     "text": [
      "{'n_neighbors': 9}\n"
     ]
    }
   ],
   "source": [
    "print(grid_search.best_params_)"
   ]
  },
  {
   "cell_type": "code",
   "execution_count": 284,
   "id": "af9ad2aa",
   "metadata": {},
   "outputs": [],
   "source": [
    "knn_model= grid_search.best_estimator_"
   ]
  },
  {
   "cell_type": "code",
   "execution_count": 285,
   "id": "d78f40cb",
   "metadata": {},
   "outputs": [
    {
     "data": {
      "text/plain": [
       "KNeighborsClassifier(n_neighbors=9)"
      ]
     },
     "execution_count": 285,
     "metadata": {},
     "output_type": "execute_result"
    }
   ],
   "source": [
    "knn_model"
   ]
  },
  {
   "cell_type": "code",
   "execution_count": 286,
   "id": "475d5f0a",
   "metadata": {},
   "outputs": [],
   "source": [
    "y_train_Pred = knn_model.predict(X_train)\n",
    "y_validation_Pred = knn_model.predict(X_validation)"
   ]
  },
  {
   "cell_type": "code",
   "execution_count": 287,
   "id": "c84f8fab",
   "metadata": {
    "scrolled": true
   },
   "outputs": [
    {
     "data": {
      "text/html": [
       "<div>\n",
       "<style scoped>\n",
       "    .dataframe tbody tr th:only-of-type {\n",
       "        vertical-align: middle;\n",
       "    }\n",
       "\n",
       "    .dataframe tbody tr th {\n",
       "        vertical-align: top;\n",
       "    }\n",
       "\n",
       "    .dataframe thead th {\n",
       "        text-align: right;\n",
       "    }\n",
       "</style>\n",
       "<table border=\"1\" class=\"dataframe\">\n",
       "  <thead>\n",
       "    <tr style=\"text-align: right;\">\n",
       "      <th></th>\n",
       "      <th>Model</th>\n",
       "      <th>Train_F1_Score</th>\n",
       "      <th>validation_F1_Score</th>\n",
       "    </tr>\n",
       "  </thead>\n",
       "  <tbody>\n",
       "    <tr>\n",
       "      <th>0</th>\n",
       "      <td>Logistic_Regression</td>\n",
       "      <td>0.685133</td>\n",
       "      <td>0.692565</td>\n",
       "    </tr>\n",
       "    <tr>\n",
       "      <th>1</th>\n",
       "      <td>Naive_Bayes</td>\n",
       "      <td>0.820552</td>\n",
       "      <td>0.829704</td>\n",
       "    </tr>\n",
       "    <tr>\n",
       "      <th>2</th>\n",
       "      <td>L1_model</td>\n",
       "      <td>0.823122</td>\n",
       "      <td>0.829774</td>\n",
       "    </tr>\n",
       "    <tr>\n",
       "      <th>3</th>\n",
       "      <td>L2_model</td>\n",
       "      <td>0.824674</td>\n",
       "      <td>0.829687</td>\n",
       "    </tr>\n",
       "    <tr>\n",
       "      <th>4</th>\n",
       "      <td>elasticnet</td>\n",
       "      <td>0.618117</td>\n",
       "      <td>0.625005</td>\n",
       "    </tr>\n",
       "    <tr>\n",
       "      <th>5</th>\n",
       "      <td>DecisionTreeClassifier</td>\n",
       "      <td>0.940129</td>\n",
       "      <td>0.913863</td>\n",
       "    </tr>\n",
       "    <tr>\n",
       "      <th>6</th>\n",
       "      <td>knn_model</td>\n",
       "      <td>0.836006</td>\n",
       "      <td>0.816845</td>\n",
       "    </tr>\n",
       "  </tbody>\n",
       "</table>\n",
       "</div>"
      ],
      "text/plain": [
       "                    Model  Train_F1_Score  validation_F1_Score\n",
       "0     Logistic_Regression        0.685133             0.692565\n",
       "1             Naive_Bayes        0.820552             0.829704\n",
       "2                L1_model        0.823122             0.829774\n",
       "3                L2_model        0.824674             0.829687\n",
       "4              elasticnet        0.618117             0.625005\n",
       "5  DecisionTreeClassifier        0.940129             0.913863\n",
       "6               knn_model        0.836006             0.816845"
      ]
     },
     "execution_count": 287,
     "metadata": {},
     "output_type": "execute_result"
    }
   ],
   "source": [
    "scores = get_metrics(y_train,y_train_Pred,y_validation,y_validation_Pred,\"knn_model\",scores)\n",
    "scores"
   ]
  },
  {
   "cell_type": "markdown",
   "id": "f36bc8ad",
   "metadata": {},
   "source": [
    "# Random Forest"
   ]
  },
  {
   "cell_type": "code",
   "execution_count": 294,
   "id": "8b92b867",
   "metadata": {},
   "outputs": [],
   "source": [
    "from sklearn.ensemble import RandomForestClassifier\n",
    "rf_model = RandomForestClassifier(n_estimators=100)"
   ]
  },
  {
   "cell_type": "code",
   "execution_count": 295,
   "id": "8e363ebc",
   "metadata": {},
   "outputs": [
    {
     "data": {
      "text/plain": [
       "RandomForestClassifier()"
      ]
     },
     "execution_count": 295,
     "metadata": {},
     "output_type": "execute_result"
    }
   ],
   "source": [
    "rf_model.fit(X_train, y_train)"
   ]
  },
  {
   "cell_type": "code",
   "execution_count": 296,
   "id": "03c03579",
   "metadata": {},
   "outputs": [],
   "source": [
    "y_train_Pred = rf_model.predict(X_train)\n",
    "y_validation_Pred = rf_model.predict(X_validation)"
   ]
  },
  {
   "cell_type": "code",
   "execution_count": 297,
   "id": "d03100b3",
   "metadata": {},
   "outputs": [
    {
     "data": {
      "text/html": [
       "<div>\n",
       "<style scoped>\n",
       "    .dataframe tbody tr th:only-of-type {\n",
       "        vertical-align: middle;\n",
       "    }\n",
       "\n",
       "    .dataframe tbody tr th {\n",
       "        vertical-align: top;\n",
       "    }\n",
       "\n",
       "    .dataframe thead th {\n",
       "        text-align: right;\n",
       "    }\n",
       "</style>\n",
       "<table border=\"1\" class=\"dataframe\">\n",
       "  <thead>\n",
       "    <tr style=\"text-align: right;\">\n",
       "      <th></th>\n",
       "      <th>Model</th>\n",
       "      <th>Train_F1_Score</th>\n",
       "      <th>validation_F1_Score</th>\n",
       "    </tr>\n",
       "  </thead>\n",
       "  <tbody>\n",
       "    <tr>\n",
       "      <th>0</th>\n",
       "      <td>Logistic_Regression</td>\n",
       "      <td>0.685133</td>\n",
       "      <td>0.692565</td>\n",
       "    </tr>\n",
       "    <tr>\n",
       "      <th>1</th>\n",
       "      <td>Naive_Bayes</td>\n",
       "      <td>0.820552</td>\n",
       "      <td>0.829704</td>\n",
       "    </tr>\n",
       "    <tr>\n",
       "      <th>2</th>\n",
       "      <td>L1_model</td>\n",
       "      <td>0.823122</td>\n",
       "      <td>0.829774</td>\n",
       "    </tr>\n",
       "    <tr>\n",
       "      <th>3</th>\n",
       "      <td>L2_model</td>\n",
       "      <td>0.824674</td>\n",
       "      <td>0.829687</td>\n",
       "    </tr>\n",
       "    <tr>\n",
       "      <th>4</th>\n",
       "      <td>elasticnet</td>\n",
       "      <td>0.618117</td>\n",
       "      <td>0.625005</td>\n",
       "    </tr>\n",
       "    <tr>\n",
       "      <th>5</th>\n",
       "      <td>DecisionTreeClassifier</td>\n",
       "      <td>0.940129</td>\n",
       "      <td>0.913863</td>\n",
       "    </tr>\n",
       "    <tr>\n",
       "      <th>6</th>\n",
       "      <td>knn_model</td>\n",
       "      <td>0.836006</td>\n",
       "      <td>0.816845</td>\n",
       "    </tr>\n",
       "    <tr>\n",
       "      <th>7</th>\n",
       "      <td>Random_Forest</td>\n",
       "      <td>1.000000</td>\n",
       "      <td>0.932578</td>\n",
       "    </tr>\n",
       "  </tbody>\n",
       "</table>\n",
       "</div>"
      ],
      "text/plain": [
       "                    Model  Train_F1_Score  validation_F1_Score\n",
       "0     Logistic_Regression        0.685133             0.692565\n",
       "1             Naive_Bayes        0.820552             0.829704\n",
       "2                L1_model        0.823122             0.829774\n",
       "3                L2_model        0.824674             0.829687\n",
       "4              elasticnet        0.618117             0.625005\n",
       "5  DecisionTreeClassifier        0.940129             0.913863\n",
       "6               knn_model        0.836006             0.816845\n",
       "7           Random_Forest        1.000000             0.932578"
      ]
     },
     "execution_count": 297,
     "metadata": {},
     "output_type": "execute_result"
    }
   ],
   "source": [
    "scores = get_metrics(y_train,y_train_Pred,y_validation,y_validation_Pred,\"Random_Forest\",scores)\n",
    "scores"
   ]
  },
  {
   "cell_type": "markdown",
   "id": "b4861725",
   "metadata": {},
   "source": [
    "# Test Data"
   ]
  },
  {
   "cell_type": "markdown",
   "id": "400efb01",
   "metadata": {},
   "source": [
    "### Loading datasets"
   ]
  },
  {
   "cell_type": "code",
   "execution_count": 300,
   "id": "e23ac113",
   "metadata": {},
   "outputs": [],
   "source": [
    "demographics_test = pd.read_csv(\"Test_Demographics.csv\",na_values=\"NA\")"
   ]
  },
  {
   "cell_type": "code",
   "execution_count": 301,
   "id": "e34117b4",
   "metadata": {},
   "outputs": [],
   "source": [
    "claim_test = pd.read_csv(\"Test_Claim.csv\",na_values=(\"?\",\"-5\",\"MISSINGVALUE\",'MISSEDDATA'))"
   ]
  },
  {
   "cell_type": "code",
   "execution_count": 302,
   "id": "88afa978",
   "metadata": {},
   "outputs": [],
   "source": [
    "policy_test = pd.read_csv(\"Test_Policy.csv\",na_values=(\"-1\",\"MISSINGVAL\",\"NA\"))"
   ]
  },
  {
   "cell_type": "code",
   "execution_count": 303,
   "id": "6dcad846",
   "metadata": {},
   "outputs": [],
   "source": [
    "vehicle_test = pd.read_csv(\"Test_Vehicle.csv\",na_values=\"???\")"
   ]
  },
  {
   "cell_type": "code",
   "execution_count": 304,
   "id": "ac062ef6",
   "metadata": {},
   "outputs": [],
   "source": [
    "testdata = pd.read_csv(\"Test.csv\")"
   ]
  },
  {
   "cell_type": "code",
   "execution_count": 305,
   "id": "76180002",
   "metadata": {},
   "outputs": [
    {
     "name": "stdout",
     "output_type": "stream",
     "text": [
      "(8912, 10)\n",
      "(8912, 19)\n",
      "(8912, 10)\n",
      "(115344, 3)\n",
      "(8912, 1)\n"
     ]
    }
   ],
   "source": [
    "#shape of all data frames\n",
    "print(demographics_test.shape)\n",
    "print(claim_test.shape)\n",
    "print(policy_test.shape)\n",
    "print(vehicle.shape)\n",
    "print(testdata.shape)"
   ]
  },
  {
   "cell_type": "markdown",
   "id": "869024b5",
   "metadata": {},
   "source": [
    "### Test Demographics data"
   ]
  },
  {
   "cell_type": "code",
   "execution_count": 306,
   "id": "fab3cc9d",
   "metadata": {},
   "outputs": [
    {
     "data": {
      "text/html": [
       "<div>\n",
       "<style scoped>\n",
       "    .dataframe tbody tr th:only-of-type {\n",
       "        vertical-align: middle;\n",
       "    }\n",
       "\n",
       "    .dataframe tbody tr th {\n",
       "        vertical-align: top;\n",
       "    }\n",
       "\n",
       "    .dataframe thead th {\n",
       "        text-align: right;\n",
       "    }\n",
       "</style>\n",
       "<table border=\"1\" class=\"dataframe\">\n",
       "  <thead>\n",
       "    <tr style=\"text-align: right;\">\n",
       "      <th></th>\n",
       "      <th>CustomerID</th>\n",
       "      <th>InsuredAge</th>\n",
       "      <th>InsuredZipCode</th>\n",
       "      <th>InsuredGender</th>\n",
       "      <th>InsuredEducationLevel</th>\n",
       "      <th>InsuredOccupation</th>\n",
       "      <th>InsuredHobbies</th>\n",
       "      <th>CapitalGains</th>\n",
       "      <th>CapitalLoss</th>\n",
       "      <th>Country</th>\n",
       "    </tr>\n",
       "  </thead>\n",
       "  <tbody>\n",
       "    <tr>\n",
       "      <th>0</th>\n",
       "      <td>Cust10008</td>\n",
       "      <td>27</td>\n",
       "      <td>471704</td>\n",
       "      <td>FEMALE</td>\n",
       "      <td>High School</td>\n",
       "      <td>adm-clerical</td>\n",
       "      <td>base-jumping</td>\n",
       "      <td>56400</td>\n",
       "      <td>-57000</td>\n",
       "      <td>India</td>\n",
       "    </tr>\n",
       "    <tr>\n",
       "      <th>1</th>\n",
       "      <td>Cust10010</td>\n",
       "      <td>40</td>\n",
       "      <td>455810</td>\n",
       "      <td>FEMALE</td>\n",
       "      <td>MD</td>\n",
       "      <td>prof-specialty</td>\n",
       "      <td>golf</td>\n",
       "      <td>56700</td>\n",
       "      <td>-65600</td>\n",
       "      <td>India</td>\n",
       "    </tr>\n",
       "    <tr>\n",
       "      <th>2</th>\n",
       "      <td>Cust10015</td>\n",
       "      <td>39</td>\n",
       "      <td>461919</td>\n",
       "      <td>MALE</td>\n",
       "      <td>JD</td>\n",
       "      <td>other-service</td>\n",
       "      <td>movies</td>\n",
       "      <td>30400</td>\n",
       "      <td>0</td>\n",
       "      <td>India</td>\n",
       "    </tr>\n",
       "    <tr>\n",
       "      <th>3</th>\n",
       "      <td>Cust10020</td>\n",
       "      <td>38</td>\n",
       "      <td>600904</td>\n",
       "      <td>FEMALE</td>\n",
       "      <td>Masters</td>\n",
       "      <td>exec-managerial</td>\n",
       "      <td>video-games</td>\n",
       "      <td>68500</td>\n",
       "      <td>0</td>\n",
       "      <td>India</td>\n",
       "    </tr>\n",
       "    <tr>\n",
       "      <th>4</th>\n",
       "      <td>Cust1003</td>\n",
       "      <td>29</td>\n",
       "      <td>430632</td>\n",
       "      <td>FEMALE</td>\n",
       "      <td>PhD</td>\n",
       "      <td>sales</td>\n",
       "      <td>board-games</td>\n",
       "      <td>35100</td>\n",
       "      <td>0</td>\n",
       "      <td>India</td>\n",
       "    </tr>\n",
       "  </tbody>\n",
       "</table>\n",
       "</div>"
      ],
      "text/plain": [
       "  CustomerID  InsuredAge  InsuredZipCode InsuredGender InsuredEducationLevel  \\\n",
       "0  Cust10008          27          471704        FEMALE           High School   \n",
       "1  Cust10010          40          455810        FEMALE                    MD   \n",
       "2  Cust10015          39          461919          MALE                    JD   \n",
       "3  Cust10020          38          600904        FEMALE               Masters   \n",
       "4   Cust1003          29          430632        FEMALE                   PhD   \n",
       "\n",
       "  InsuredOccupation InsuredHobbies  CapitalGains  CapitalLoss Country  \n",
       "0      adm-clerical   base-jumping         56400       -57000   India  \n",
       "1    prof-specialty           golf         56700       -65600   India  \n",
       "2     other-service         movies         30400            0   India  \n",
       "3   exec-managerial    video-games         68500            0   India  \n",
       "4             sales    board-games         35100            0   India  "
      ]
     },
     "execution_count": 306,
     "metadata": {},
     "output_type": "execute_result"
    }
   ],
   "source": [
    "demographics_test.head()"
   ]
  },
  {
   "cell_type": "markdown",
   "id": "ba62b781",
   "metadata": {},
   "source": [
    "### Test Claim Data"
   ]
  },
  {
   "cell_type": "code",
   "execution_count": 307,
   "id": "6c2f327b",
   "metadata": {},
   "outputs": [
    {
     "data": {
      "text/html": [
       "<div>\n",
       "<style scoped>\n",
       "    .dataframe tbody tr th:only-of-type {\n",
       "        vertical-align: middle;\n",
       "    }\n",
       "\n",
       "    .dataframe tbody tr th {\n",
       "        vertical-align: top;\n",
       "    }\n",
       "\n",
       "    .dataframe thead th {\n",
       "        text-align: right;\n",
       "    }\n",
       "</style>\n",
       "<table border=\"1\" class=\"dataframe\">\n",
       "  <thead>\n",
       "    <tr style=\"text-align: right;\">\n",
       "      <th></th>\n",
       "      <th>CustomerID</th>\n",
       "      <th>DateOfIncident</th>\n",
       "      <th>TypeOfIncident</th>\n",
       "      <th>TypeOfCollission</th>\n",
       "      <th>SeverityOfIncident</th>\n",
       "      <th>AuthoritiesContacted</th>\n",
       "      <th>IncidentState</th>\n",
       "      <th>IncidentCity</th>\n",
       "      <th>IncidentAddress</th>\n",
       "      <th>IncidentTime</th>\n",
       "      <th>NumberOfVehicles</th>\n",
       "      <th>PropertyDamage</th>\n",
       "      <th>BodilyInjuries</th>\n",
       "      <th>Witnesses</th>\n",
       "      <th>PoliceReport</th>\n",
       "      <th>AmountOfTotalClaim</th>\n",
       "      <th>AmountOfInjuryClaim</th>\n",
       "      <th>AmountOfPropertyClaim</th>\n",
       "      <th>AmountOfVehicleDamage</th>\n",
       "    </tr>\n",
       "  </thead>\n",
       "  <tbody>\n",
       "    <tr>\n",
       "      <th>0</th>\n",
       "      <td>Cust10008</td>\n",
       "      <td>2015-02-05</td>\n",
       "      <td>Multi-vehicle Collision</td>\n",
       "      <td>Front Collision</td>\n",
       "      <td>Minor Damage</td>\n",
       "      <td>Ambulance</td>\n",
       "      <td>State5</td>\n",
       "      <td>City2</td>\n",
       "      <td>Location 1354</td>\n",
       "      <td>4.0</td>\n",
       "      <td>3</td>\n",
       "      <td>NO</td>\n",
       "      <td>0</td>\n",
       "      <td>0.0</td>\n",
       "      <td>NaN</td>\n",
       "      <td>68354.0</td>\n",
       "      <td>6835</td>\n",
       "      <td>8059</td>\n",
       "      <td>53460</td>\n",
       "    </tr>\n",
       "    <tr>\n",
       "      <th>1</th>\n",
       "      <td>Cust10010</td>\n",
       "      <td>2015-01-13</td>\n",
       "      <td>Single Vehicle Collision</td>\n",
       "      <td>Rear Collision</td>\n",
       "      <td>Minor Damage</td>\n",
       "      <td>Fire</td>\n",
       "      <td>State9</td>\n",
       "      <td>City5</td>\n",
       "      <td>Location 1383</td>\n",
       "      <td>16.0</td>\n",
       "      <td>1</td>\n",
       "      <td>NaN</td>\n",
       "      <td>1</td>\n",
       "      <td>1.0</td>\n",
       "      <td>NaN</td>\n",
       "      <td>55270.0</td>\n",
       "      <td>8113</td>\n",
       "      <td>5240</td>\n",
       "      <td>41917</td>\n",
       "    </tr>\n",
       "    <tr>\n",
       "      <th>2</th>\n",
       "      <td>Cust10015</td>\n",
       "      <td>2015-01-05</td>\n",
       "      <td>Multi-vehicle Collision</td>\n",
       "      <td>Rear Collision</td>\n",
       "      <td>Minor Damage</td>\n",
       "      <td>Police</td>\n",
       "      <td>State5</td>\n",
       "      <td>City2</td>\n",
       "      <td>Location 2030</td>\n",
       "      <td>20.0</td>\n",
       "      <td>3</td>\n",
       "      <td>NO</td>\n",
       "      <td>0</td>\n",
       "      <td>1.0</td>\n",
       "      <td>NaN</td>\n",
       "      <td>59515.0</td>\n",
       "      <td>7490</td>\n",
       "      <td>9110</td>\n",
       "      <td>42915</td>\n",
       "    </tr>\n",
       "    <tr>\n",
       "      <th>3</th>\n",
       "      <td>Cust10020</td>\n",
       "      <td>2015-01-03</td>\n",
       "      <td>Vehicle Theft</td>\n",
       "      <td>NaN</td>\n",
       "      <td>Trivial Damage</td>\n",
       "      <td>None</td>\n",
       "      <td>State7</td>\n",
       "      <td>City5</td>\n",
       "      <td>Location 1449</td>\n",
       "      <td>10.0</td>\n",
       "      <td>1</td>\n",
       "      <td>NaN</td>\n",
       "      <td>2</td>\n",
       "      <td>1.0</td>\n",
       "      <td>NaN</td>\n",
       "      <td>4941.0</td>\n",
       "      <td>494</td>\n",
       "      <td>866</td>\n",
       "      <td>3581</td>\n",
       "    </tr>\n",
       "    <tr>\n",
       "      <th>4</th>\n",
       "      <td>Cust1003</td>\n",
       "      <td>2015-02-22</td>\n",
       "      <td>Multi-vehicle Collision</td>\n",
       "      <td>Rear Collision</td>\n",
       "      <td>Minor Damage</td>\n",
       "      <td>Police</td>\n",
       "      <td>State5</td>\n",
       "      <td>City2</td>\n",
       "      <td>Location 1916</td>\n",
       "      <td>7.0</td>\n",
       "      <td>3</td>\n",
       "      <td>NO</td>\n",
       "      <td>2</td>\n",
       "      <td>3.0</td>\n",
       "      <td>NO</td>\n",
       "      <td>34650.0</td>\n",
       "      <td>7700</td>\n",
       "      <td>3850</td>\n",
       "      <td>23100</td>\n",
       "    </tr>\n",
       "  </tbody>\n",
       "</table>\n",
       "</div>"
      ],
      "text/plain": [
       "  CustomerID DateOfIncident            TypeOfIncident TypeOfCollission  \\\n",
       "0  Cust10008     2015-02-05   Multi-vehicle Collision  Front Collision   \n",
       "1  Cust10010     2015-01-13  Single Vehicle Collision   Rear Collision   \n",
       "2  Cust10015     2015-01-05   Multi-vehicle Collision   Rear Collision   \n",
       "3  Cust10020     2015-01-03             Vehicle Theft              NaN   \n",
       "4   Cust1003     2015-02-22   Multi-vehicle Collision   Rear Collision   \n",
       "\n",
       "  SeverityOfIncident AuthoritiesContacted IncidentState IncidentCity  \\\n",
       "0       Minor Damage            Ambulance        State5        City2   \n",
       "1       Minor Damage                 Fire        State9        City5   \n",
       "2       Minor Damage               Police        State5        City2   \n",
       "3     Trivial Damage                 None        State7        City5   \n",
       "4       Minor Damage               Police        State5        City2   \n",
       "\n",
       "  IncidentAddress  IncidentTime  NumberOfVehicles PropertyDamage  \\\n",
       "0   Location 1354           4.0                 3             NO   \n",
       "1   Location 1383          16.0                 1            NaN   \n",
       "2   Location 2030          20.0                 3             NO   \n",
       "3   Location 1449          10.0                 1            NaN   \n",
       "4   Location 1916           7.0                 3             NO   \n",
       "\n",
       "   BodilyInjuries  Witnesses PoliceReport  AmountOfTotalClaim  \\\n",
       "0               0        0.0          NaN             68354.0   \n",
       "1               1        1.0          NaN             55270.0   \n",
       "2               0        1.0          NaN             59515.0   \n",
       "3               2        1.0          NaN              4941.0   \n",
       "4               2        3.0           NO             34650.0   \n",
       "\n",
       "   AmountOfInjuryClaim  AmountOfPropertyClaim  AmountOfVehicleDamage  \n",
       "0                 6835                   8059                  53460  \n",
       "1                 8113                   5240                  41917  \n",
       "2                 7490                   9110                  42915  \n",
       "3                  494                    866                   3581  \n",
       "4                 7700                   3850                  23100  "
      ]
     },
     "execution_count": 307,
     "metadata": {},
     "output_type": "execute_result"
    }
   ],
   "source": [
    "claim_test.head()"
   ]
  },
  {
   "cell_type": "markdown",
   "id": "0679e82a",
   "metadata": {},
   "source": [
    "### Test Policy Data"
   ]
  },
  {
   "cell_type": "code",
   "execution_count": 308,
   "id": "b2bac8e7",
   "metadata": {},
   "outputs": [
    {
     "data": {
      "text/html": [
       "<div>\n",
       "<style scoped>\n",
       "    .dataframe tbody tr th:only-of-type {\n",
       "        vertical-align: middle;\n",
       "    }\n",
       "\n",
       "    .dataframe tbody tr th {\n",
       "        vertical-align: top;\n",
       "    }\n",
       "\n",
       "    .dataframe thead th {\n",
       "        text-align: right;\n",
       "    }\n",
       "</style>\n",
       "<table border=\"1\" class=\"dataframe\">\n",
       "  <thead>\n",
       "    <tr style=\"text-align: right;\">\n",
       "      <th></th>\n",
       "      <th>InsurancePolicyNumber</th>\n",
       "      <th>CustomerLoyaltyPeriod</th>\n",
       "      <th>DateOfPolicyCoverage</th>\n",
       "      <th>InsurancePolicyState</th>\n",
       "      <th>Policy_CombinedSingleLimit</th>\n",
       "      <th>Policy_Deductible</th>\n",
       "      <th>PolicyAnnualPremium</th>\n",
       "      <th>UmbrellaLimit</th>\n",
       "      <th>InsuredRelationship</th>\n",
       "      <th>CustomerID</th>\n",
       "    </tr>\n",
       "  </thead>\n",
       "  <tbody>\n",
       "    <tr>\n",
       "      <th>0</th>\n",
       "      <td>110124</td>\n",
       "      <td>134</td>\n",
       "      <td>2000-09-06</td>\n",
       "      <td>State3</td>\n",
       "      <td>100/300</td>\n",
       "      <td>2000</td>\n",
       "      <td>1413.14</td>\n",
       "      <td>5000000</td>\n",
       "      <td>own-child</td>\n",
       "      <td>Cust1003</td>\n",
       "    </tr>\n",
       "    <tr>\n",
       "      <th>1</th>\n",
       "      <td>110129</td>\n",
       "      <td>165</td>\n",
       "      <td>1990-02-03</td>\n",
       "      <td>State1</td>\n",
       "      <td>100/300</td>\n",
       "      <td>1000</td>\n",
       "      <td>1137.03</td>\n",
       "      <td>0</td>\n",
       "      <td>unmarried</td>\n",
       "      <td>Cust1008</td>\n",
       "    </tr>\n",
       "    <tr>\n",
       "      <th>2</th>\n",
       "      <td>110137</td>\n",
       "      <td>473</td>\n",
       "      <td>1992-10-19</td>\n",
       "      <td>State2</td>\n",
       "      <td>100/300</td>\n",
       "      <td>2000</td>\n",
       "      <td>1131.40</td>\n",
       "      <td>0</td>\n",
       "      <td>other-relative</td>\n",
       "      <td>Cust1016</td>\n",
       "    </tr>\n",
       "    <tr>\n",
       "      <th>3</th>\n",
       "      <td>110140</td>\n",
       "      <td>160</td>\n",
       "      <td>2014-12-28</td>\n",
       "      <td>State3</td>\n",
       "      <td>500/1000</td>\n",
       "      <td>500</td>\n",
       "      <td>1374.22</td>\n",
       "      <td>0</td>\n",
       "      <td>other-relative</td>\n",
       "      <td>Cust1019</td>\n",
       "    </tr>\n",
       "    <tr>\n",
       "      <th>4</th>\n",
       "      <td>110141</td>\n",
       "      <td>196</td>\n",
       "      <td>1992-08-02</td>\n",
       "      <td>State2</td>\n",
       "      <td>500/1000</td>\n",
       "      <td>2000</td>\n",
       "      <td>1475.73</td>\n",
       "      <td>0</td>\n",
       "      <td>own-child</td>\n",
       "      <td>Cust1020</td>\n",
       "    </tr>\n",
       "  </tbody>\n",
       "</table>\n",
       "</div>"
      ],
      "text/plain": [
       "   InsurancePolicyNumber  CustomerLoyaltyPeriod DateOfPolicyCoverage  \\\n",
       "0                 110124                    134           2000-09-06   \n",
       "1                 110129                    165           1990-02-03   \n",
       "2                 110137                    473           1992-10-19   \n",
       "3                 110140                    160           2014-12-28   \n",
       "4                 110141                    196           1992-08-02   \n",
       "\n",
       "  InsurancePolicyState Policy_CombinedSingleLimit  Policy_Deductible  \\\n",
       "0               State3                    100/300               2000   \n",
       "1               State1                    100/300               1000   \n",
       "2               State2                    100/300               2000   \n",
       "3               State3                   500/1000                500   \n",
       "4               State2                   500/1000               2000   \n",
       "\n",
       "   PolicyAnnualPremium  UmbrellaLimit InsuredRelationship CustomerID  \n",
       "0              1413.14        5000000           own-child   Cust1003  \n",
       "1              1137.03              0           unmarried   Cust1008  \n",
       "2              1131.40              0      other-relative   Cust1016  \n",
       "3              1374.22              0      other-relative   Cust1019  \n",
       "4              1475.73              0           own-child   Cust1020  "
      ]
     },
     "execution_count": 308,
     "metadata": {},
     "output_type": "execute_result"
    }
   ],
   "source": [
    "policy_test.head()"
   ]
  },
  {
   "cell_type": "markdown",
   "id": "13d0dd07",
   "metadata": {},
   "source": [
    "### Test Vehicle Data"
   ]
  },
  {
   "cell_type": "code",
   "execution_count": 309,
   "id": "b1e85cc8",
   "metadata": {},
   "outputs": [
    {
     "data": {
      "text/html": [
       "<div>\n",
       "<style scoped>\n",
       "    .dataframe tbody tr th:only-of-type {\n",
       "        vertical-align: middle;\n",
       "    }\n",
       "\n",
       "    .dataframe tbody tr th {\n",
       "        vertical-align: top;\n",
       "    }\n",
       "\n",
       "    .dataframe thead th {\n",
       "        text-align: right;\n",
       "    }\n",
       "</style>\n",
       "<table border=\"1\" class=\"dataframe\">\n",
       "  <thead>\n",
       "    <tr style=\"text-align: right;\">\n",
       "      <th></th>\n",
       "      <th>CustomerID</th>\n",
       "      <th>VehicleAttribute</th>\n",
       "      <th>VehicleAttributeDetails</th>\n",
       "    </tr>\n",
       "  </thead>\n",
       "  <tbody>\n",
       "    <tr>\n",
       "      <th>0</th>\n",
       "      <td>Cust28465</td>\n",
       "      <td>VehicleModel</td>\n",
       "      <td>92x</td>\n",
       "    </tr>\n",
       "    <tr>\n",
       "      <th>1</th>\n",
       "      <td>Cust20319</td>\n",
       "      <td>VehicleModel</td>\n",
       "      <td>Jetta</td>\n",
       "    </tr>\n",
       "    <tr>\n",
       "      <th>2</th>\n",
       "      <td>Cust3683</td>\n",
       "      <td>VehicleID</td>\n",
       "      <td>Vehicle22709</td>\n",
       "    </tr>\n",
       "    <tr>\n",
       "      <th>3</th>\n",
       "      <td>Cust29385</td>\n",
       "      <td>VehicleID</td>\n",
       "      <td>Vehicle20347</td>\n",
       "    </tr>\n",
       "    <tr>\n",
       "      <th>4</th>\n",
       "      <td>Cust34403</td>\n",
       "      <td>VehicleModel</td>\n",
       "      <td>Camry</td>\n",
       "    </tr>\n",
       "  </tbody>\n",
       "</table>\n",
       "</div>"
      ],
      "text/plain": [
       "  CustomerID VehicleAttribute VehicleAttributeDetails\n",
       "0  Cust28465     VehicleModel                     92x\n",
       "1  Cust20319     VehicleModel                   Jetta\n",
       "2   Cust3683        VehicleID            Vehicle22709\n",
       "3  Cust29385        VehicleID            Vehicle20347\n",
       "4  Cust34403     VehicleModel                   Camry"
      ]
     },
     "execution_count": 309,
     "metadata": {},
     "output_type": "execute_result"
    }
   ],
   "source": [
    "vehicle_test.head()"
   ]
  },
  {
   "cell_type": "markdown",
   "id": "1270859d",
   "metadata": {},
   "source": [
    "#### vehicle data is inadequate so we need to arrange data properly"
   ]
  },
  {
   "cell_type": "code",
   "execution_count": 310,
   "id": "802edc62",
   "metadata": {},
   "outputs": [],
   "source": [
    "V1=vehicle_test['VehicleAttribute'].unique()\n",
    "vehicle_test=pd.concat([vehicle_test.set_index(['CustomerID']).groupby('VehicleAttribute')['VehicleAttributeDetails'].get_group(key) for key in V1],axis=1)\n",
    "vehicle_test.columns=V1\n",
    "vehicle_test.reset_index(inplace=True)"
   ]
  },
  {
   "cell_type": "code",
   "execution_count": 311,
   "id": "e2784f32",
   "metadata": {},
   "outputs": [
    {
     "data": {
      "text/html": [
       "<div>\n",
       "<style scoped>\n",
       "    .dataframe tbody tr th:only-of-type {\n",
       "        vertical-align: middle;\n",
       "    }\n",
       "\n",
       "    .dataframe tbody tr th {\n",
       "        vertical-align: top;\n",
       "    }\n",
       "\n",
       "    .dataframe thead th {\n",
       "        text-align: right;\n",
       "    }\n",
       "</style>\n",
       "<table border=\"1\" class=\"dataframe\">\n",
       "  <thead>\n",
       "    <tr style=\"text-align: right;\">\n",
       "      <th></th>\n",
       "      <th>CustomerID</th>\n",
       "      <th>VehicleModel</th>\n",
       "      <th>VehicleID</th>\n",
       "      <th>VehicleYOM</th>\n",
       "      <th>VehicleMake</th>\n",
       "    </tr>\n",
       "  </thead>\n",
       "  <tbody>\n",
       "    <tr>\n",
       "      <th>0</th>\n",
       "      <td>Cust28465</td>\n",
       "      <td>92x</td>\n",
       "      <td>Vehicle36793</td>\n",
       "      <td>2001</td>\n",
       "      <td>Suburu</td>\n",
       "    </tr>\n",
       "    <tr>\n",
       "      <th>1</th>\n",
       "      <td>Cust20319</td>\n",
       "      <td>Jetta</td>\n",
       "      <td>Vehicle7679</td>\n",
       "      <td>2006</td>\n",
       "      <td>Dodge</td>\n",
       "    </tr>\n",
       "    <tr>\n",
       "      <th>2</th>\n",
       "      <td>Cust34403</td>\n",
       "      <td>Camry</td>\n",
       "      <td>Vehicle26765</td>\n",
       "      <td>2014</td>\n",
       "      <td>Toyota</td>\n",
       "    </tr>\n",
       "    <tr>\n",
       "      <th>3</th>\n",
       "      <td>Cust2595</td>\n",
       "      <td>X6</td>\n",
       "      <td>Vehicle25368</td>\n",
       "      <td>2013</td>\n",
       "      <td>BMW</td>\n",
       "    </tr>\n",
       "    <tr>\n",
       "      <th>4</th>\n",
       "      <td>Cust8061</td>\n",
       "      <td>Civic</td>\n",
       "      <td>Vehicle29502</td>\n",
       "      <td>2002</td>\n",
       "      <td>Honda</td>\n",
       "    </tr>\n",
       "  </tbody>\n",
       "</table>\n",
       "</div>"
      ],
      "text/plain": [
       "  CustomerID VehicleModel     VehicleID VehicleYOM VehicleMake\n",
       "0  Cust28465          92x  Vehicle36793       2001      Suburu\n",
       "1  Cust20319        Jetta   Vehicle7679       2006       Dodge\n",
       "2  Cust34403        Camry  Vehicle26765       2014      Toyota\n",
       "3   Cust2595           X6  Vehicle25368       2013         BMW\n",
       "4   Cust8061        Civic  Vehicle29502       2002       Honda"
      ]
     },
     "execution_count": 311,
     "metadata": {},
     "output_type": "execute_result"
    }
   ],
   "source": [
    "vehicle_test.head()"
   ]
  },
  {
   "cell_type": "markdown",
   "id": "da626a28",
   "metadata": {},
   "source": [
    "### Test Target Data"
   ]
  },
  {
   "cell_type": "code",
   "execution_count": 312,
   "id": "078c7823",
   "metadata": {},
   "outputs": [
    {
     "data": {
      "text/html": [
       "<div>\n",
       "<style scoped>\n",
       "    .dataframe tbody tr th:only-of-type {\n",
       "        vertical-align: middle;\n",
       "    }\n",
       "\n",
       "    .dataframe tbody tr th {\n",
       "        vertical-align: top;\n",
       "    }\n",
       "\n",
       "    .dataframe thead th {\n",
       "        text-align: right;\n",
       "    }\n",
       "</style>\n",
       "<table border=\"1\" class=\"dataframe\">\n",
       "  <thead>\n",
       "    <tr style=\"text-align: right;\">\n",
       "      <th></th>\n",
       "      <th>CustomerID</th>\n",
       "    </tr>\n",
       "  </thead>\n",
       "  <tbody>\n",
       "    <tr>\n",
       "      <th>0</th>\n",
       "      <td>Cust10008</td>\n",
       "    </tr>\n",
       "    <tr>\n",
       "      <th>1</th>\n",
       "      <td>Cust10010</td>\n",
       "    </tr>\n",
       "    <tr>\n",
       "      <th>2</th>\n",
       "      <td>Cust10015</td>\n",
       "    </tr>\n",
       "    <tr>\n",
       "      <th>3</th>\n",
       "      <td>Cust10020</td>\n",
       "    </tr>\n",
       "    <tr>\n",
       "      <th>4</th>\n",
       "      <td>Cust1003</td>\n",
       "    </tr>\n",
       "  </tbody>\n",
       "</table>\n",
       "</div>"
      ],
      "text/plain": [
       "  CustomerID\n",
       "0  Cust10008\n",
       "1  Cust10010\n",
       "2  Cust10015\n",
       "3  Cust10020\n",
       "4   Cust1003"
      ]
     },
     "execution_count": 312,
     "metadata": {},
     "output_type": "execute_result"
    }
   ],
   "source": [
    "testdata.head()"
   ]
  },
  {
   "cell_type": "markdown",
   "id": "250089fa",
   "metadata": {},
   "source": [
    "### Merging the dataframes"
   ]
  },
  {
   "cell_type": "code",
   "execution_count": 313,
   "id": "10c16da1",
   "metadata": {},
   "outputs": [],
   "source": [
    "test_df = pd.merge(pd.merge(pd.merge(pd.merge(demographics_test,claim_test),vehicle_test),policy_test),testdata)    "
   ]
  },
  {
   "cell_type": "code",
   "execution_count": 113,
   "id": "b8dd4c15",
   "metadata": {},
   "outputs": [
    {
     "data": {
      "text/html": [
       "<div>\n",
       "<style scoped>\n",
       "    .dataframe tbody tr th:only-of-type {\n",
       "        vertical-align: middle;\n",
       "    }\n",
       "\n",
       "    .dataframe tbody tr th {\n",
       "        vertical-align: top;\n",
       "    }\n",
       "\n",
       "    .dataframe thead th {\n",
       "        text-align: right;\n",
       "    }\n",
       "</style>\n",
       "<table border=\"1\" class=\"dataframe\">\n",
       "  <thead>\n",
       "    <tr style=\"text-align: right;\">\n",
       "      <th></th>\n",
       "      <th>CustomerID</th>\n",
       "      <th>InsuredAge</th>\n",
       "      <th>InsuredZipCode</th>\n",
       "      <th>InsuredGender</th>\n",
       "      <th>InsuredEducationLevel</th>\n",
       "      <th>InsuredOccupation</th>\n",
       "      <th>InsuredHobbies</th>\n",
       "      <th>CapitalGains</th>\n",
       "      <th>CapitalLoss</th>\n",
       "      <th>Country</th>\n",
       "      <th>...</th>\n",
       "      <th>VehicleMake</th>\n",
       "      <th>InsurancePolicyNumber</th>\n",
       "      <th>CustomerLoyaltyPeriod</th>\n",
       "      <th>DateOfPolicyCoverage</th>\n",
       "      <th>InsurancePolicyState</th>\n",
       "      <th>Policy_CombinedSingleLimit</th>\n",
       "      <th>Policy_Deductible</th>\n",
       "      <th>PolicyAnnualPremium</th>\n",
       "      <th>UmbrellaLimit</th>\n",
       "      <th>InsuredRelationship</th>\n",
       "    </tr>\n",
       "  </thead>\n",
       "  <tbody>\n",
       "    <tr>\n",
       "      <th>0</th>\n",
       "      <td>Cust10008</td>\n",
       "      <td>27</td>\n",
       "      <td>471704</td>\n",
       "      <td>FEMALE</td>\n",
       "      <td>High School</td>\n",
       "      <td>adm-clerical</td>\n",
       "      <td>base-jumping</td>\n",
       "      <td>56400</td>\n",
       "      <td>-57000</td>\n",
       "      <td>India</td>\n",
       "      <td>...</td>\n",
       "      <td>Volkswagen</td>\n",
       "      <td>119129</td>\n",
       "      <td>84</td>\n",
       "      <td>1998-05-10</td>\n",
       "      <td>State2</td>\n",
       "      <td>500/1000</td>\n",
       "      <td>2000</td>\n",
       "      <td>1006.00</td>\n",
       "      <td>0</td>\n",
       "      <td>own-child</td>\n",
       "    </tr>\n",
       "    <tr>\n",
       "      <th>1</th>\n",
       "      <td>Cust10010</td>\n",
       "      <td>40</td>\n",
       "      <td>455810</td>\n",
       "      <td>FEMALE</td>\n",
       "      <td>MD</td>\n",
       "      <td>prof-specialty</td>\n",
       "      <td>golf</td>\n",
       "      <td>56700</td>\n",
       "      <td>-65600</td>\n",
       "      <td>India</td>\n",
       "      <td>...</td>\n",
       "      <td>Nissan</td>\n",
       "      <td>119131</td>\n",
       "      <td>232</td>\n",
       "      <td>2011-11-10</td>\n",
       "      <td>State3</td>\n",
       "      <td>100/300</td>\n",
       "      <td>500</td>\n",
       "      <td>1279.17</td>\n",
       "      <td>0</td>\n",
       "      <td>unmarried</td>\n",
       "    </tr>\n",
       "    <tr>\n",
       "      <th>2</th>\n",
       "      <td>Cust10015</td>\n",
       "      <td>39</td>\n",
       "      <td>461919</td>\n",
       "      <td>MALE</td>\n",
       "      <td>JD</td>\n",
       "      <td>other-service</td>\n",
       "      <td>movies</td>\n",
       "      <td>30400</td>\n",
       "      <td>0</td>\n",
       "      <td>India</td>\n",
       "      <td>...</td>\n",
       "      <td>Suburu</td>\n",
       "      <td>119136</td>\n",
       "      <td>218</td>\n",
       "      <td>2010-07-17</td>\n",
       "      <td>State2</td>\n",
       "      <td>250/500</td>\n",
       "      <td>1000</td>\n",
       "      <td>1454.67</td>\n",
       "      <td>1235986</td>\n",
       "      <td>other-relative</td>\n",
       "    </tr>\n",
       "    <tr>\n",
       "      <th>3</th>\n",
       "      <td>Cust10020</td>\n",
       "      <td>38</td>\n",
       "      <td>600904</td>\n",
       "      <td>FEMALE</td>\n",
       "      <td>Masters</td>\n",
       "      <td>exec-managerial</td>\n",
       "      <td>video-games</td>\n",
       "      <td>68500</td>\n",
       "      <td>0</td>\n",
       "      <td>India</td>\n",
       "      <td>...</td>\n",
       "      <td>Accura</td>\n",
       "      <td>119141</td>\n",
       "      <td>205</td>\n",
       "      <td>2000-09-10</td>\n",
       "      <td>State3</td>\n",
       "      <td>500/500</td>\n",
       "      <td>2000</td>\n",
       "      <td>1287.76</td>\n",
       "      <td>5873212</td>\n",
       "      <td>wife</td>\n",
       "    </tr>\n",
       "    <tr>\n",
       "      <th>4</th>\n",
       "      <td>Cust1003</td>\n",
       "      <td>29</td>\n",
       "      <td>430632</td>\n",
       "      <td>FEMALE</td>\n",
       "      <td>PhD</td>\n",
       "      <td>sales</td>\n",
       "      <td>board-games</td>\n",
       "      <td>35100</td>\n",
       "      <td>0</td>\n",
       "      <td>India</td>\n",
       "      <td>...</td>\n",
       "      <td>Dodge</td>\n",
       "      <td>110124</td>\n",
       "      <td>134</td>\n",
       "      <td>2000-09-06</td>\n",
       "      <td>State3</td>\n",
       "      <td>100/300</td>\n",
       "      <td>2000</td>\n",
       "      <td>1413.14</td>\n",
       "      <td>5000000</td>\n",
       "      <td>own-child</td>\n",
       "    </tr>\n",
       "  </tbody>\n",
       "</table>\n",
       "<p>5 rows × 41 columns</p>\n",
       "</div>"
      ],
      "text/plain": [
       "  CustomerID  InsuredAge  InsuredZipCode InsuredGender InsuredEducationLevel  \\\n",
       "0  Cust10008          27          471704        FEMALE           High School   \n",
       "1  Cust10010          40          455810        FEMALE                    MD   \n",
       "2  Cust10015          39          461919          MALE                    JD   \n",
       "3  Cust10020          38          600904        FEMALE               Masters   \n",
       "4   Cust1003          29          430632        FEMALE                   PhD   \n",
       "\n",
       "  InsuredOccupation InsuredHobbies  CapitalGains  CapitalLoss Country  ...  \\\n",
       "0      adm-clerical   base-jumping         56400       -57000   India  ...   \n",
       "1    prof-specialty           golf         56700       -65600   India  ...   \n",
       "2     other-service         movies         30400            0   India  ...   \n",
       "3   exec-managerial    video-games         68500            0   India  ...   \n",
       "4             sales    board-games         35100            0   India  ...   \n",
       "\n",
       "  VehicleMake InsurancePolicyNumber CustomerLoyaltyPeriod  \\\n",
       "0  Volkswagen                119129                    84   \n",
       "1      Nissan                119131                   232   \n",
       "2      Suburu                119136                   218   \n",
       "3      Accura                119141                   205   \n",
       "4       Dodge                110124                   134   \n",
       "\n",
       "  DateOfPolicyCoverage InsurancePolicyState Policy_CombinedSingleLimit  \\\n",
       "0           1998-05-10               State2                   500/1000   \n",
       "1           2011-11-10               State3                    100/300   \n",
       "2           2010-07-17               State2                    250/500   \n",
       "3           2000-09-10               State3                    500/500   \n",
       "4           2000-09-06               State3                    100/300   \n",
       "\n",
       "  Policy_Deductible PolicyAnnualPremium  UmbrellaLimit  InsuredRelationship  \n",
       "0              2000             1006.00              0            own-child  \n",
       "1               500             1279.17              0            unmarried  \n",
       "2              1000             1454.67        1235986       other-relative  \n",
       "3              2000             1287.76        5873212                 wife  \n",
       "4              2000             1413.14        5000000            own-child  \n",
       "\n",
       "[5 rows x 41 columns]"
      ]
     },
     "execution_count": 113,
     "metadata": {},
     "output_type": "execute_result"
    }
   ],
   "source": [
    "test_df.head()"
   ]
  },
  {
   "cell_type": "code",
   "execution_count": 314,
   "id": "ded8247e",
   "metadata": {},
   "outputs": [
    {
     "data": {
      "text/plain": [
       "(8912, 41)"
      ]
     },
     "execution_count": 314,
     "metadata": {},
     "output_type": "execute_result"
    }
   ],
   "source": [
    "test_df.shape"
   ]
  },
  {
   "cell_type": "code",
   "execution_count": 315,
   "id": "86fe1e0c",
   "metadata": {},
   "outputs": [
    {
     "data": {
      "text/plain": [
       "CustomerID                       0\n",
       "InsuredAge                       0\n",
       "InsuredZipCode                   0\n",
       "InsuredGender                    8\n",
       "InsuredEducationLevel            0\n",
       "InsuredOccupation                0\n",
       "InsuredHobbies                   0\n",
       "CapitalGains                     0\n",
       "CapitalLoss                      0\n",
       "Country                          4\n",
       "DateOfIncident                   0\n",
       "TypeOfIncident                   0\n",
       "TypeOfCollission              1763\n",
       "SeverityOfIncident               0\n",
       "AuthoritiesContacted             0\n",
       "IncidentState                    0\n",
       "IncidentCity                     0\n",
       "IncidentAddress                  0\n",
       "IncidentTime                     7\n",
       "NumberOfVehicles                 0\n",
       "PropertyDamage                3199\n",
       "BodilyInjuries                   0\n",
       "Witnesses                       12\n",
       "PoliceReport                  3014\n",
       "AmountOfTotalClaim               8\n",
       "AmountOfInjuryClaim              0\n",
       "AmountOfPropertyClaim            0\n",
       "AmountOfVehicleDamage            0\n",
       "VehicleModel                     0\n",
       "VehicleID                        0\n",
       "VehicleYOM                       0\n",
       "VehicleMake                      8\n",
       "InsurancePolicyNumber            0\n",
       "CustomerLoyaltyPeriod            0\n",
       "DateOfPolicyCoverage             0\n",
       "InsurancePolicyState             0\n",
       "Policy_CombinedSingleLimit       0\n",
       "Policy_Deductible                0\n",
       "PolicyAnnualPremium             47\n",
       "UmbrellaLimit                    0\n",
       "InsuredRelationship              0\n",
       "dtype: int64"
      ]
     },
     "execution_count": 315,
     "metadata": {},
     "output_type": "execute_result"
    }
   ],
   "source": [
    "#checking the null values\n",
    "test_df.isnull().sum()"
   ]
  },
  {
   "cell_type": "markdown",
   "id": "f7fd3099",
   "metadata": {},
   "source": [
    "### Imputation"
   ]
  },
  {
   "cell_type": "code",
   "execution_count": 316,
   "id": "b46547a7",
   "metadata": {},
   "outputs": [],
   "source": [
    "test_cat_cols = test_df.select_dtypes(include=['object']).columns\n",
    "test_num_cols = test_df.select_dtypes(include=['float64','int64']).columns"
   ]
  },
  {
   "cell_type": "code",
   "execution_count": 317,
   "id": "39cfc967",
   "metadata": {},
   "outputs": [],
   "source": [
    "imputer = SimpleImputer(missing_values=np.nan,strategy=\"median\")\n",
    "cols = test_df[test_num_cols].columns\n",
    "test_df[cols] = imputer.fit_transform(test_df[cols])"
   ]
  },
  {
   "cell_type": "code",
   "execution_count": 318,
   "id": "04aa0d83",
   "metadata": {},
   "outputs": [],
   "source": [
    "imputer = SimpleImputer(missing_values=np.nan,strategy=\"most_frequent\")\n",
    "cols = test_df[test_cat_cols].columns\n",
    "test_df[cols] = imputer.fit_transform(test_df[cols])"
   ]
  },
  {
   "cell_type": "code",
   "execution_count": 319,
   "id": "80369b14",
   "metadata": {},
   "outputs": [
    {
     "data": {
      "text/plain": [
       "CustomerID                    0\n",
       "InsuredAge                    0\n",
       "InsuredZipCode                0\n",
       "InsuredGender                 0\n",
       "InsuredEducationLevel         0\n",
       "InsuredOccupation             0\n",
       "InsuredHobbies                0\n",
       "CapitalGains                  0\n",
       "CapitalLoss                   0\n",
       "Country                       0\n",
       "DateOfIncident                0\n",
       "TypeOfIncident                0\n",
       "TypeOfCollission              0\n",
       "SeverityOfIncident            0\n",
       "AuthoritiesContacted          0\n",
       "IncidentState                 0\n",
       "IncidentCity                  0\n",
       "IncidentAddress               0\n",
       "IncidentTime                  0\n",
       "NumberOfVehicles              0\n",
       "PropertyDamage                0\n",
       "BodilyInjuries                0\n",
       "Witnesses                     0\n",
       "PoliceReport                  0\n",
       "AmountOfTotalClaim            0\n",
       "AmountOfInjuryClaim           0\n",
       "AmountOfPropertyClaim         0\n",
       "AmountOfVehicleDamage         0\n",
       "VehicleModel                  0\n",
       "VehicleID                     0\n",
       "VehicleYOM                    0\n",
       "VehicleMake                   0\n",
       "InsurancePolicyNumber         0\n",
       "CustomerLoyaltyPeriod         0\n",
       "DateOfPolicyCoverage          0\n",
       "InsurancePolicyState          0\n",
       "Policy_CombinedSingleLimit    0\n",
       "Policy_Deductible             0\n",
       "PolicyAnnualPremium           0\n",
       "UmbrellaLimit                 0\n",
       "InsuredRelationship           0\n",
       "dtype: int64"
      ]
     },
     "execution_count": 319,
     "metadata": {},
     "output_type": "execute_result"
    }
   ],
   "source": [
    "test_df.isnull().sum()"
   ]
  },
  {
   "cell_type": "markdown",
   "id": "1643ca39",
   "metadata": {},
   "source": [
    "### Standardize Numeric Attributes"
   ]
  },
  {
   "cell_type": "code",
   "execution_count": 120,
   "id": "25d26124",
   "metadata": {},
   "outputs": [],
   "source": [
    "from sklearn.preprocessing import StandardScaler\n",
    "scaler = StandardScaler()\n",
    "test_df[test_num_cols]=scaler.fit_transform(test_df[test_num_cols])"
   ]
  },
  {
   "cell_type": "markdown",
   "id": "20fb422a",
   "metadata": {},
   "source": [
    "### Data Type Conversion"
   ]
  },
  {
   "cell_type": "code",
   "execution_count": 320,
   "id": "66645dac",
   "metadata": {},
   "outputs": [
    {
     "data": {
      "text/plain": [
       "CustomerID                     object\n",
       "InsuredAge                    float64\n",
       "InsuredZipCode                float64\n",
       "InsuredGender                  object\n",
       "InsuredEducationLevel          object\n",
       "InsuredOccupation              object\n",
       "InsuredHobbies                 object\n",
       "CapitalGains                  float64\n",
       "CapitalLoss                   float64\n",
       "Country                        object\n",
       "DateOfIncident                 object\n",
       "TypeOfIncident                 object\n",
       "TypeOfCollission               object\n",
       "SeverityOfIncident             object\n",
       "AuthoritiesContacted           object\n",
       "IncidentState                  object\n",
       "IncidentCity                   object\n",
       "IncidentAddress                object\n",
       "IncidentTime                  float64\n",
       "NumberOfVehicles              float64\n",
       "PropertyDamage                 object\n",
       "BodilyInjuries                float64\n",
       "Witnesses                     float64\n",
       "PoliceReport                   object\n",
       "AmountOfTotalClaim            float64\n",
       "AmountOfInjuryClaim           float64\n",
       "AmountOfPropertyClaim         float64\n",
       "AmountOfVehicleDamage         float64\n",
       "VehicleModel                   object\n",
       "VehicleID                      object\n",
       "VehicleYOM                     object\n",
       "VehicleMake                    object\n",
       "InsurancePolicyNumber         float64\n",
       "CustomerLoyaltyPeriod         float64\n",
       "DateOfPolicyCoverage           object\n",
       "InsurancePolicyState           object\n",
       "Policy_CombinedSingleLimit     object\n",
       "Policy_Deductible             float64\n",
       "PolicyAnnualPremium           float64\n",
       "UmbrellaLimit                 float64\n",
       "InsuredRelationship            object\n",
       "dtype: object"
      ]
     },
     "execution_count": 320,
     "metadata": {},
     "output_type": "execute_result"
    }
   ],
   "source": [
    "test_df.dtypes"
   ]
  },
  {
   "cell_type": "code",
   "execution_count": 321,
   "id": "2c3095c6",
   "metadata": {},
   "outputs": [],
   "source": [
    "test_df[test_cat_cols] = test_df[test_cat_cols].apply(lambda col: col.astype('category'))\n",
    "test_df[test_num_cols] = test_df[test_num_cols].apply(lambda col: col.astype('float64'))"
   ]
  },
  {
   "cell_type": "code",
   "execution_count": 322,
   "id": "63a405f6",
   "metadata": {},
   "outputs": [
    {
     "data": {
      "text/plain": [
       "CustomerID                    category\n",
       "InsuredAge                     float64\n",
       "InsuredZipCode                 float64\n",
       "InsuredGender                 category\n",
       "InsuredEducationLevel         category\n",
       "InsuredOccupation             category\n",
       "InsuredHobbies                category\n",
       "CapitalGains                   float64\n",
       "CapitalLoss                    float64\n",
       "Country                       category\n",
       "DateOfIncident                category\n",
       "TypeOfIncident                category\n",
       "TypeOfCollission              category\n",
       "SeverityOfIncident            category\n",
       "AuthoritiesContacted          category\n",
       "IncidentState                 category\n",
       "IncidentCity                  category\n",
       "IncidentAddress               category\n",
       "IncidentTime                   float64\n",
       "NumberOfVehicles               float64\n",
       "PropertyDamage                category\n",
       "BodilyInjuries                 float64\n",
       "Witnesses                      float64\n",
       "PoliceReport                  category\n",
       "AmountOfTotalClaim             float64\n",
       "AmountOfInjuryClaim            float64\n",
       "AmountOfPropertyClaim          float64\n",
       "AmountOfVehicleDamage          float64\n",
       "VehicleModel                  category\n",
       "VehicleID                     category\n",
       "VehicleYOM                    category\n",
       "VehicleMake                   category\n",
       "InsurancePolicyNumber          float64\n",
       "CustomerLoyaltyPeriod          float64\n",
       "DateOfPolicyCoverage          category\n",
       "InsurancePolicyState          category\n",
       "Policy_CombinedSingleLimit    category\n",
       "Policy_Deductible              float64\n",
       "PolicyAnnualPremium            float64\n",
       "UmbrellaLimit                  float64\n",
       "InsuredRelationship           category\n",
       "dtype: object"
      ]
     },
     "execution_count": 322,
     "metadata": {},
     "output_type": "execute_result"
    }
   ],
   "source": [
    "test_df.dtypes"
   ]
  },
  {
   "cell_type": "code",
   "execution_count": 324,
   "id": "c89d2394",
   "metadata": {},
   "outputs": [],
   "source": [
    "X_test_df = test_df.copy()"
   ]
  },
  {
   "cell_type": "code",
   "execution_count": 325,
   "id": "d6b8a43f",
   "metadata": {},
   "outputs": [],
   "source": [
    "test_category = test_df.select_dtypes(include=['category']).columns\n",
    "test_numerical = test_df.select_dtypes(include=['float64']).columns"
   ]
  },
  {
   "cell_type": "markdown",
   "id": "676f6c60",
   "metadata": {},
   "source": [
    "### Label Encoding"
   ]
  },
  {
   "cell_type": "code",
   "execution_count": 326,
   "id": "5817d51d",
   "metadata": {},
   "outputs": [],
   "source": [
    "from sklearn.preprocessing import StandardScaler, OneHotEncoder, LabelEncoder\n",
    "label_encoders = {}\n",
    "categorical_columns = test_category\n",
    "\n",
    "for column in categorical_columns:\n",
    "    label_encoders[column] = LabelEncoder()\n",
    "    test_df[column] = label_encoders[column].fit_transform(test_df[column])"
   ]
  },
  {
   "cell_type": "markdown",
   "id": "8a38d1f2",
   "metadata": {},
   "source": [
    "### Random forest Classifier"
   ]
  },
  {
   "cell_type": "code",
   "execution_count": 327,
   "id": "a84b80d6",
   "metadata": {},
   "outputs": [
    {
     "name": "stdout",
     "output_type": "stream",
     "text": [
      "[0 0 1 ... 0 0 0]\n"
     ]
    }
   ],
   "source": [
    "# create y-labels through the learned model\n",
    "x_test = rf_model.predict(test_df)  \n",
    "print(x_test)"
   ]
  },
  {
   "cell_type": "code",
   "execution_count": 328,
   "id": "b68acfce",
   "metadata": {},
   "outputs": [],
   "source": [
    "x_test = pd.DataFrame(x_test)"
   ]
  },
  {
   "cell_type": "code",
   "execution_count": 329,
   "id": "99bc3423",
   "metadata": {},
   "outputs": [
    {
     "data": {
      "text/plain": [
       "0    6844\n",
       "1    2068\n",
       "dtype: int64"
      ]
     },
     "execution_count": 329,
     "metadata": {},
     "output_type": "execute_result"
    }
   ],
   "source": [
    "x_test.value_counts()"
   ]
  },
  {
   "cell_type": "code",
   "execution_count": 330,
   "id": "c27cc9c2",
   "metadata": {},
   "outputs": [],
   "source": [
    "x_test.columns=['ReportedFraud']"
   ]
  },
  {
   "cell_type": "code",
   "execution_count": 331,
   "id": "489dcc73",
   "metadata": {},
   "outputs": [],
   "source": [
    "final_df =X_test_df.join(x_test)"
   ]
  },
  {
   "cell_type": "code",
   "execution_count": 332,
   "id": "ea5723a8",
   "metadata": {},
   "outputs": [
    {
     "data": {
      "text/html": [
       "<div>\n",
       "<style scoped>\n",
       "    .dataframe tbody tr th:only-of-type {\n",
       "        vertical-align: middle;\n",
       "    }\n",
       "\n",
       "    .dataframe tbody tr th {\n",
       "        vertical-align: top;\n",
       "    }\n",
       "\n",
       "    .dataframe thead th {\n",
       "        text-align: right;\n",
       "    }\n",
       "</style>\n",
       "<table border=\"1\" class=\"dataframe\">\n",
       "  <thead>\n",
       "    <tr style=\"text-align: right;\">\n",
       "      <th></th>\n",
       "      <th>CustomerID</th>\n",
       "      <th>InsuredAge</th>\n",
       "      <th>InsuredZipCode</th>\n",
       "      <th>InsuredGender</th>\n",
       "      <th>InsuredEducationLevel</th>\n",
       "      <th>InsuredOccupation</th>\n",
       "      <th>InsuredHobbies</th>\n",
       "      <th>CapitalGains</th>\n",
       "      <th>CapitalLoss</th>\n",
       "      <th>Country</th>\n",
       "      <th>...</th>\n",
       "      <th>InsurancePolicyNumber</th>\n",
       "      <th>CustomerLoyaltyPeriod</th>\n",
       "      <th>DateOfPolicyCoverage</th>\n",
       "      <th>InsurancePolicyState</th>\n",
       "      <th>Policy_CombinedSingleLimit</th>\n",
       "      <th>Policy_Deductible</th>\n",
       "      <th>PolicyAnnualPremium</th>\n",
       "      <th>UmbrellaLimit</th>\n",
       "      <th>InsuredRelationship</th>\n",
       "      <th>ReportedFraud</th>\n",
       "    </tr>\n",
       "  </thead>\n",
       "  <tbody>\n",
       "    <tr>\n",
       "      <th>0</th>\n",
       "      <td>Cust10008</td>\n",
       "      <td>27.0</td>\n",
       "      <td>471704.0</td>\n",
       "      <td>FEMALE</td>\n",
       "      <td>High School</td>\n",
       "      <td>adm-clerical</td>\n",
       "      <td>base-jumping</td>\n",
       "      <td>56400.0</td>\n",
       "      <td>-57000.0</td>\n",
       "      <td>India</td>\n",
       "      <td>...</td>\n",
       "      <td>119129.0</td>\n",
       "      <td>84.0</td>\n",
       "      <td>1998-05-10</td>\n",
       "      <td>State2</td>\n",
       "      <td>500/1000</td>\n",
       "      <td>2000.0</td>\n",
       "      <td>1006.00</td>\n",
       "      <td>0.0</td>\n",
       "      <td>own-child</td>\n",
       "      <td>0</td>\n",
       "    </tr>\n",
       "    <tr>\n",
       "      <th>1</th>\n",
       "      <td>Cust10010</td>\n",
       "      <td>40.0</td>\n",
       "      <td>455810.0</td>\n",
       "      <td>FEMALE</td>\n",
       "      <td>MD</td>\n",
       "      <td>prof-specialty</td>\n",
       "      <td>golf</td>\n",
       "      <td>56700.0</td>\n",
       "      <td>-65600.0</td>\n",
       "      <td>India</td>\n",
       "      <td>...</td>\n",
       "      <td>119131.0</td>\n",
       "      <td>232.0</td>\n",
       "      <td>2011-11-10</td>\n",
       "      <td>State3</td>\n",
       "      <td>100/300</td>\n",
       "      <td>500.0</td>\n",
       "      <td>1279.17</td>\n",
       "      <td>0.0</td>\n",
       "      <td>unmarried</td>\n",
       "      <td>0</td>\n",
       "    </tr>\n",
       "    <tr>\n",
       "      <th>2</th>\n",
       "      <td>Cust10015</td>\n",
       "      <td>39.0</td>\n",
       "      <td>461919.0</td>\n",
       "      <td>MALE</td>\n",
       "      <td>JD</td>\n",
       "      <td>other-service</td>\n",
       "      <td>movies</td>\n",
       "      <td>30400.0</td>\n",
       "      <td>0.0</td>\n",
       "      <td>India</td>\n",
       "      <td>...</td>\n",
       "      <td>119136.0</td>\n",
       "      <td>218.0</td>\n",
       "      <td>2010-07-17</td>\n",
       "      <td>State2</td>\n",
       "      <td>250/500</td>\n",
       "      <td>1000.0</td>\n",
       "      <td>1454.67</td>\n",
       "      <td>1235986.0</td>\n",
       "      <td>other-relative</td>\n",
       "      <td>1</td>\n",
       "    </tr>\n",
       "    <tr>\n",
       "      <th>3</th>\n",
       "      <td>Cust10020</td>\n",
       "      <td>38.0</td>\n",
       "      <td>600904.0</td>\n",
       "      <td>FEMALE</td>\n",
       "      <td>Masters</td>\n",
       "      <td>exec-managerial</td>\n",
       "      <td>video-games</td>\n",
       "      <td>68500.0</td>\n",
       "      <td>0.0</td>\n",
       "      <td>India</td>\n",
       "      <td>...</td>\n",
       "      <td>119141.0</td>\n",
       "      <td>205.0</td>\n",
       "      <td>2000-09-10</td>\n",
       "      <td>State3</td>\n",
       "      <td>500/500</td>\n",
       "      <td>2000.0</td>\n",
       "      <td>1287.76</td>\n",
       "      <td>5873212.0</td>\n",
       "      <td>wife</td>\n",
       "      <td>1</td>\n",
       "    </tr>\n",
       "    <tr>\n",
       "      <th>4</th>\n",
       "      <td>Cust1003</td>\n",
       "      <td>29.0</td>\n",
       "      <td>430632.0</td>\n",
       "      <td>FEMALE</td>\n",
       "      <td>PhD</td>\n",
       "      <td>sales</td>\n",
       "      <td>board-games</td>\n",
       "      <td>35100.0</td>\n",
       "      <td>0.0</td>\n",
       "      <td>India</td>\n",
       "      <td>...</td>\n",
       "      <td>110124.0</td>\n",
       "      <td>134.0</td>\n",
       "      <td>2000-09-06</td>\n",
       "      <td>State3</td>\n",
       "      <td>100/300</td>\n",
       "      <td>2000.0</td>\n",
       "      <td>1413.14</td>\n",
       "      <td>5000000.0</td>\n",
       "      <td>own-child</td>\n",
       "      <td>1</td>\n",
       "    </tr>\n",
       "  </tbody>\n",
       "</table>\n",
       "<p>5 rows × 42 columns</p>\n",
       "</div>"
      ],
      "text/plain": [
       "  CustomerID  InsuredAge  InsuredZipCode InsuredGender InsuredEducationLevel  \\\n",
       "0  Cust10008        27.0        471704.0        FEMALE           High School   \n",
       "1  Cust10010        40.0        455810.0        FEMALE                    MD   \n",
       "2  Cust10015        39.0        461919.0          MALE                    JD   \n",
       "3  Cust10020        38.0        600904.0        FEMALE               Masters   \n",
       "4   Cust1003        29.0        430632.0        FEMALE                   PhD   \n",
       "\n",
       "  InsuredOccupation InsuredHobbies  CapitalGains  CapitalLoss Country  ...  \\\n",
       "0      adm-clerical   base-jumping       56400.0     -57000.0   India  ...   \n",
       "1    prof-specialty           golf       56700.0     -65600.0   India  ...   \n",
       "2     other-service         movies       30400.0          0.0   India  ...   \n",
       "3   exec-managerial    video-games       68500.0          0.0   India  ...   \n",
       "4             sales    board-games       35100.0          0.0   India  ...   \n",
       "\n",
       "  InsurancePolicyNumber CustomerLoyaltyPeriod DateOfPolicyCoverage  \\\n",
       "0              119129.0                  84.0           1998-05-10   \n",
       "1              119131.0                 232.0           2011-11-10   \n",
       "2              119136.0                 218.0           2010-07-17   \n",
       "3              119141.0                 205.0           2000-09-10   \n",
       "4              110124.0                 134.0           2000-09-06   \n",
       "\n",
       "  InsurancePolicyState Policy_CombinedSingleLimit Policy_Deductible  \\\n",
       "0               State2                   500/1000            2000.0   \n",
       "1               State3                    100/300             500.0   \n",
       "2               State2                    250/500            1000.0   \n",
       "3               State3                    500/500            2000.0   \n",
       "4               State3                    100/300            2000.0   \n",
       "\n",
       "  PolicyAnnualPremium UmbrellaLimit  InsuredRelationship  ReportedFraud  \n",
       "0             1006.00           0.0            own-child              0  \n",
       "1             1279.17           0.0            unmarried              0  \n",
       "2             1454.67     1235986.0       other-relative              1  \n",
       "3             1287.76     5873212.0                 wife              1  \n",
       "4             1413.14     5000000.0            own-child              1  \n",
       "\n",
       "[5 rows x 42 columns]"
      ]
     },
     "execution_count": 332,
     "metadata": {},
     "output_type": "execute_result"
    }
   ],
   "source": [
    "final_df.head()"
   ]
  },
  {
   "cell_type": "code",
   "execution_count": 333,
   "id": "e2435f99",
   "metadata": {},
   "outputs": [],
   "source": [
    "final = final_df.loc[:,['CustomerID','ReportedFraud']]"
   ]
  },
  {
   "cell_type": "code",
   "execution_count": 334,
   "id": "fc9041f6",
   "metadata": {},
   "outputs": [
    {
     "data": {
      "text/html": [
       "<div>\n",
       "<style scoped>\n",
       "    .dataframe tbody tr th:only-of-type {\n",
       "        vertical-align: middle;\n",
       "    }\n",
       "\n",
       "    .dataframe tbody tr th {\n",
       "        vertical-align: top;\n",
       "    }\n",
       "\n",
       "    .dataframe thead th {\n",
       "        text-align: right;\n",
       "    }\n",
       "</style>\n",
       "<table border=\"1\" class=\"dataframe\">\n",
       "  <thead>\n",
       "    <tr style=\"text-align: right;\">\n",
       "      <th></th>\n",
       "      <th>CustomerID</th>\n",
       "      <th>ReportedFraud</th>\n",
       "    </tr>\n",
       "  </thead>\n",
       "  <tbody>\n",
       "    <tr>\n",
       "      <th>0</th>\n",
       "      <td>Cust10008</td>\n",
       "      <td>0</td>\n",
       "    </tr>\n",
       "    <tr>\n",
       "      <th>1</th>\n",
       "      <td>Cust10010</td>\n",
       "      <td>0</td>\n",
       "    </tr>\n",
       "    <tr>\n",
       "      <th>2</th>\n",
       "      <td>Cust10015</td>\n",
       "      <td>1</td>\n",
       "    </tr>\n",
       "    <tr>\n",
       "      <th>3</th>\n",
       "      <td>Cust10020</td>\n",
       "      <td>1</td>\n",
       "    </tr>\n",
       "    <tr>\n",
       "      <th>4</th>\n",
       "      <td>Cust1003</td>\n",
       "      <td>1</td>\n",
       "    </tr>\n",
       "    <tr>\n",
       "      <th>...</th>\n",
       "      <td>...</td>\n",
       "      <td>...</td>\n",
       "    </tr>\n",
       "    <tr>\n",
       "      <th>8907</th>\n",
       "      <td>Cust9984</td>\n",
       "      <td>0</td>\n",
       "    </tr>\n",
       "    <tr>\n",
       "      <th>8908</th>\n",
       "      <td>Cust9986</td>\n",
       "      <td>1</td>\n",
       "    </tr>\n",
       "    <tr>\n",
       "      <th>8909</th>\n",
       "      <td>Cust9990</td>\n",
       "      <td>0</td>\n",
       "    </tr>\n",
       "    <tr>\n",
       "      <th>8910</th>\n",
       "      <td>Cust9995</td>\n",
       "      <td>0</td>\n",
       "    </tr>\n",
       "    <tr>\n",
       "      <th>8911</th>\n",
       "      <td>Cust9998</td>\n",
       "      <td>0</td>\n",
       "    </tr>\n",
       "  </tbody>\n",
       "</table>\n",
       "<p>8912 rows × 2 columns</p>\n",
       "</div>"
      ],
      "text/plain": [
       "     CustomerID  ReportedFraud\n",
       "0     Cust10008              0\n",
       "1     Cust10010              0\n",
       "2     Cust10015              1\n",
       "3     Cust10020              1\n",
       "4      Cust1003              1\n",
       "...         ...            ...\n",
       "8907   Cust9984              0\n",
       "8908   Cust9986              1\n",
       "8909   Cust9990              0\n",
       "8910   Cust9995              0\n",
       "8911   Cust9998              0\n",
       "\n",
       "[8912 rows x 2 columns]"
      ]
     },
     "execution_count": 334,
     "metadata": {},
     "output_type": "execute_result"
    }
   ],
   "source": [
    "final"
   ]
  },
  {
   "cell_type": "code",
   "execution_count": 144,
   "id": "0a19950b",
   "metadata": {},
   "outputs": [],
   "source": [
    "#final.to_csv(\"Final_File.csv\")"
   ]
  },
  {
   "cell_type": "code",
   "execution_count": null,
   "id": "6d95991b",
   "metadata": {},
   "outputs": [],
   "source": []
  }
 ],
 "metadata": {
  "kernelspec": {
   "display_name": "Python 3 (ipykernel)",
   "language": "python",
   "name": "python3"
  },
  "language_info": {
   "codemirror_mode": {
    "name": "ipython",
    "version": 3
   },
   "file_extension": ".py",
   "mimetype": "text/x-python",
   "name": "python",
   "nbconvert_exporter": "python",
   "pygments_lexer": "ipython3",
   "version": "3.9.13"
  }
 },
 "nbformat": 4,
 "nbformat_minor": 5
}
